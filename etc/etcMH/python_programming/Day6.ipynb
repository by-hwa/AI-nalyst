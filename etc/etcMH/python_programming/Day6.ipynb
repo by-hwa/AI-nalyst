{
 "cells": [
  {
   "cell_type": "code",
   "execution_count": 1,
   "id": "b395a125",
   "metadata": {},
   "outputs": [
    {
     "name": "stdout",
     "output_type": "stream",
     "text": [
      "Enter int: 10 20\n",
      "30\n"
     ]
    }
   ],
   "source": [
    "import arth\n",
    "\n",
    "a, b = map(int, input(\"Enter int: \").split())\n",
    "print(arth.add(a,b))"
   ]
  },
  {
   "cell_type": "code",
   "execution_count": 20,
   "id": "e6a98536",
   "metadata": {
    "scrolled": true
   },
   "outputs": [
    {
     "name": "stdout",
     "output_type": "stream",
     "text": [
      "e\n",
      "2\n",
      "6\n"
     ]
    }
   ],
   "source": [
    "import random\n",
    "\n",
    "a = 1\n",
    "b = 10\n",
    "print(random.choice('abcdefg'))\n",
    "print(random.randint(a, b))\n",
    "print(random.randrange(a, b+1))\n",
    "\n",
    "L = [x for x in range(1,11)]\n"
   ]
  },
  {
   "cell_type": "code",
   "execution_count": 7,
   "id": "ad197e3b",
   "metadata": {},
   "outputs": [
    {
     "name": "stdout",
     "output_type": "stream",
     "text": [
      "['aiot', 'assignment', 'bubble sort', 'call by reference', 'call by value', 'compiler', 'deep copy', 'divide and conquer', 'dynamic typing', 'heap', 'interpreter', 'lambda 함수', 'middleware', 'mutable', 'object', 'operator', 'os', 'shallow copy', 'sorting algorithm', 'stack', 'static typing', 'supervised learning', '모듈화', '함수']\n"
     ]
    }
   ],
   "source": [
    "L = 'Lambda 함수,Dynamic typing,Static typing,Supervised learning,Stack,Interpreter,Divide and conquer,Compiler,Mutable,Deep copy,Shallow copy,OS,모듈화,Middleware,Assignment,operator,Heap,함수,Bubble sort,Object,AIOT,Sorting algorithm,Call by value,Call by reference'\n",
    "\n",
    "print(sorted(L.lower().split(',')))"
   ]
  }
 ],
 "metadata": {
  "kernelspec": {
   "display_name": "Python 3 (ipykernel)",
   "language": "python",
   "name": "python3"
  },
  "language_info": {
   "codemirror_mode": {
    "name": "ipython",
    "version": 3
   },
   "file_extension": ".py",
   "mimetype": "text/x-python",
   "name": "python",
   "nbconvert_exporter": "python",
   "pygments_lexer": "ipython3",
   "version": "3.9.7"
  }
 },
 "nbformat": 4,
 "nbformat_minor": 5
}
