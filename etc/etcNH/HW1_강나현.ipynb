{
 "cells": [
  {
   "cell_type": "markdown",
   "id": "e70cef49",
   "metadata": {},
   "source": [
    "# 문제 1"
   ]
  },
  {
   "cell_type": "code",
   "execution_count": 14,
   "id": "305d3725",
   "metadata": {},
   "outputs": [
    {
     "name": "stdout",
     "output_type": "stream",
     "text": [
      "화씨온도: 100.0\n",
      "섭씨온도: 37.77777777777778\n"
     ]
    }
   ],
   "source": [
    "F = float(input(\"화씨온도를 입력하세요: \"))\n",
    "C = (F-32)*5/9\n",
    "print(\"화씨온도:\", F)\n",
    "print(\"섭씨온도:\", C)"
   ]
  },
  {
   "cell_type": "markdown",
   "id": "abc76b68",
   "metadata": {},
   "source": [
    "# 문제 2"
   ]
  },
  {
   "cell_type": "code",
   "execution_count": 21,
   "id": "22671f3f",
   "metadata": {},
   "outputs": [
    {
     "name": "stdout",
     "output_type": "stream",
     "text": [
      "투입한 돈을 입력하세요: 5000\n",
      "물건 값을 입력하세요: 1900\n",
      "투입한 돈: 5000\n",
      "물건 값: 1900\n",
      "거스름돈: 3100\n",
      "500원짜리 6개\n",
      "100원짜리 1개\n"
     ]
    }
   ],
   "source": [
    "money = int(input(\"투입한 돈을 입력하세요: \"))\n",
    "price = int(input(\"물건 값을 입력하세요: \"))\n",
    "change = money - price\n",
    "fivehundred = change // 500\n",
    "onehundred = (change - fivehundred*500) // 100\n",
    "print(\"투입한 돈:\", money)\n",
    "print(\"물건 값:\", price)\n",
    "print(\"거스름돈:\", change)\n",
    "print(\"500원짜리 %d개\" %fivehundred)\n",
    "print(\"100원짜리 %d개\" %onehundred)"
   ]
  },
  {
   "cell_type": "markdown",
   "id": "f758a524",
   "metadata": {},
   "source": [
    "# 문제3"
   ]
  },
  {
   "cell_type": "code",
   "execution_count": 23,
   "id": "ec56b1cd",
   "metadata": {},
   "outputs": [
    {
     "name": "stdout",
     "output_type": "stream",
     "text": [
      "원의 반지름을 입력하세요: 5\n",
      "원 둘레: 31.41592\n",
      "원 넓이: 78.5398\n"
     ]
    }
   ],
   "source": [
    "r = int(input(\"원의 반지름을 입력하세요: \"))\n",
    "dulle = 2 * 3.141592 * r\n",
    "nulby = 3.141592 * r ** 2\n",
    "print(\"원 둘레:\", dulle)\n",
    "print(\"원 넓이:\", nulby)"
   ]
  },
  {
   "cell_type": "markdown",
   "id": "285ee8f1",
   "metadata": {},
   "source": [
    "# 문제4"
   ]
  },
  {
   "cell_type": "code",
   "execution_count": 35,
   "id": "5b1755af",
   "metadata": {},
   "outputs": [
    {
     "name": "stdout",
     "output_type": "stream",
     "text": [
      "Enter two integers: 8 5\n",
      "8 + 5 = 13\n",
      "8 - 5 = 3\n",
      "8 * 5 = 40\n",
      "8 / 5 = 1.6\n",
      "8 % 5 = 3\n"
     ]
    }
   ],
   "source": [
    "numbers = input('Enter two integers: ')\n",
    "a, b = numbers.split()\n",
    "a = int(a)\n",
    "b = int(b)\n",
    "print(\"{} + {} = {}\".format(a, b, a+b))\n",
    "print(\"{} - {} = {}\".format(a, b, a-b))\n",
    "print(\"{} * {} = {}\".format(a, b, a*b))\n",
    "print(\"{} / {} = {}\".format(a, b, a/b))\n",
    "print(\"{} % {} = {}\".format(a, b, a%b))"
   ]
  },
  {
   "cell_type": "markdown",
   "id": "91eec728",
   "metadata": {},
   "source": [
    "# 문제5"
   ]
  },
  {
   "cell_type": "code",
   "execution_count": 36,
   "id": "66d2f92d",
   "metadata": {},
   "outputs": [
    {
     "name": "stdout",
     "output_type": "stream",
     "text": [
      "Enter two integers: 70 91\n",
      "The sum of 70 and 91 is 161\n",
      "The average of numbers is 80.5\n"
     ]
    }
   ],
   "source": [
    "numbers = input('Enter two integers: ')\n",
    "a, b = numbers.split()\n",
    "a = int(a)\n",
    "b = int(b)\n",
    "print(\"The sum of {} and {} is {}\".format(a, b, a+b))\n",
    "print(\"The average of numbers is\", (a+b)/2)"
   ]
  },
  {
   "cell_type": "markdown",
   "id": "2b838491",
   "metadata": {},
   "source": [
    "# 문제6"
   ]
  },
  {
   "cell_type": "code",
   "execution_count": 1,
   "id": "17dd5e55",
   "metadata": {},
   "outputs": [
    {
     "name": "stdout",
     "output_type": "stream",
     "text": [
      "날짜(연/월/일) 입력: 2022/03/29\n",
      "입력한 날짜의 10년 후는 2032년 3월 29일\n"
     ]
    }
   ],
   "source": [
    "date = input('날짜(연/월/일) 입력: ')\n",
    "y, m, d = date.split('/')\n",
    "y = int(y)\n",
    "m = int(m)\n",
    "d = int(d)\n",
    "print(\"입력한 날짜의 10년 후는 {}년 {}월 {}일\".format(y+10, m, d))"
   ]
  }
 ],
 "metadata": {
  "kernelspec": {
   "display_name": "Python 3 (ipykernel)",
   "language": "python",
   "name": "python3"
  },
  "language_info": {
   "codemirror_mode": {
    "name": "ipython",
    "version": 3
   },
   "file_extension": ".py",
   "mimetype": "text/x-python",
   "name": "python",
   "nbconvert_exporter": "python",
   "pygments_lexer": "ipython3",
   "version": "3.9.7"
  }
 },
 "nbformat": 4,
 "nbformat_minor": 5
}
