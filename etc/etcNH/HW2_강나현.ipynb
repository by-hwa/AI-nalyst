{
 "cells": [
  {
   "cell_type": "markdown",
   "id": "cbe21dca",
   "metadata": {},
   "source": [
    "# 조건문\n",
    "## 문제1"
   ]
  },
  {
   "cell_type": "code",
   "execution_count": 3,
   "id": "4e365657",
   "metadata": {},
   "outputs": [
    {
     "name": "stdout",
     "output_type": "stream",
     "text": [
      "Enter a number:7\n",
      "7 is Odd number\n"
     ]
    }
   ],
   "source": [
    "number = int(input(\"Enter a number:\"))\n",
    "if number % 2 == 0:\n",
    "    print(\"%d is Even number\" %number)\n",
    "else:\n",
    "    print(\"%d is Odd number\" %number)"
   ]
  },
  {
   "cell_type": "markdown",
   "id": "e96526a4",
   "metadata": {},
   "source": [
    "## 문제2"
   ]
  },
  {
   "cell_type": "code",
   "execution_count": 5,
   "id": "16e7048c",
   "metadata": {},
   "outputs": [
    {
     "name": "stdout",
     "output_type": "stream",
     "text": [
      "Enter your midterm score: 77\n",
      "Enter your final score: 56\n",
      "Average:  66.5\n",
      "Grade: D\n"
     ]
    }
   ],
   "source": [
    "mid = int(input(\"Enter your midterm score: \"))\n",
    "final = int(input(\"Enter your final score: \"))\n",
    "avg = (mid + final) / 2\n",
    "if  avg >= 90:\n",
    "    print(\"Average: \", avg)\n",
    "    print(\"Grade: A\")\n",
    "elif avg >= 80:\n",
    "    print(\"Average: \", avg)\n",
    "    print(\"Grade: B\")\n",
    "elif avg >= 70:\n",
    "    print(\"Average: \", avg)\n",
    "    print(\"Grade: C\")\n",
    "elif avg >= 60:\n",
    "    print(\"Average: \", avg)\n",
    "    print(\"Grade: D\")\n",
    "else:\n",
    "    print(\"Average: \", avg)\n",
    "    print(\"Grade: F\")"
   ]
  },
  {
   "cell_type": "markdown",
   "id": "0bce2aa2",
   "metadata": {},
   "source": [
    "## 문제3"
   ]
  },
  {
   "cell_type": "code",
   "execution_count": 1,
   "id": "1b5bcb6a",
   "metadata": {},
   "outputs": [
    {
     "name": "stdout",
     "output_type": "stream",
     "text": [
      "영어 점수 입력35\n",
      "수학 점수 입력95\n",
      "불합격: 영어 점수 부족\n"
     ]
    }
   ],
   "source": [
    "eng = int(input('영어 점수 입력'))\n",
    "math = int(input('수학 점수 입력'))\n",
    "if eng + math >= 110:\n",
    "    if eng < 40:\n",
    "        print('불합격: 영어 점수 부족')\n",
    "    if math < 40:\n",
    "        print('불합격: 수학 점수 부족')\n",
    "else:\n",
    "    print('불합격: 총합 점수 부족')\n",
    "        "
   ]
  },
  {
   "cell_type": "markdown",
   "id": "cf1c1152",
   "metadata": {},
   "source": [
    "## 문제4"
   ]
  },
  {
   "cell_type": "code",
   "execution_count": 2,
   "id": "2af6f32e",
   "metadata": {},
   "outputs": [
    {
     "name": "stdout",
     "output_type": "stream",
     "text": [
      "세 개의 수를 입력하시오: 30 22 50\n",
      "가장 큰 수는 50입니다\n"
     ]
    }
   ],
   "source": [
    "numbers = input('세 개의 수를 입력하시오: ')\n",
    "numbers = numbers.split()\n",
    "a, b, c = map(int, numbers)\n",
    "if a > b:\n",
    "    if a > c:\n",
    "        print('가장 큰 수는 %s입니다' %a)\n",
    "    else:\n",
    "        print('가장 큰 수는 %s입니다' %c)\n",
    "else:\n",
    "    if b > c:\n",
    "        print('가장 큰 수는 %s입니다' %b)\n",
    "    else:\n",
    "        print('가장 큰 수는 %s입니다' %c)\n"
   ]
  },
  {
   "cell_type": "markdown",
   "id": "0db6cb52",
   "metadata": {},
   "source": [
    "# 반복문\n",
    "## 문제1"
   ]
  },
  {
   "cell_type": "markdown",
   "id": "0e5c4f89",
   "metadata": {},
   "source": [
    "### (1)"
   ]
  },
  {
   "cell_type": "code",
   "execution_count": 2,
   "id": "7b64a77d",
   "metadata": {},
   "outputs": [
    {
     "name": "stdout",
     "output_type": "stream",
     "text": [
      "P\n",
      "y\n",
      "t\n",
      "h\n",
      "o\n",
      "n\n"
     ]
    }
   ],
   "source": [
    "word = 'Python'\n",
    "i = 0\n",
    "\n",
    "while i < len(word):\n",
    "    print(word[i])\n",
    "    i += 1"
   ]
  },
  {
   "cell_type": "markdown",
   "id": "7011b990",
   "metadata": {},
   "source": [
    "### (2)"
   ]
  },
  {
   "cell_type": "code",
   "execution_count": 13,
   "id": "8e35c634",
   "metadata": {},
   "outputs": [
    {
     "name": "stdout",
     "output_type": "stream",
     "text": [
      "P\n",
      "y\n",
      "t\n",
      "h\n",
      "o\n",
      "n\n"
     ]
    }
   ],
   "source": [
    "word = 'Python'\n",
    "\n",
    "for i in word:\n",
    "    print(i)"
   ]
  },
  {
   "cell_type": "markdown",
   "id": "ababc659",
   "metadata": {},
   "source": [
    "## 문제2"
   ]
  },
  {
   "cell_type": "code",
   "execution_count": 6,
   "id": "2de3b645",
   "metadata": {},
   "outputs": [
    {
     "name": "stdout",
     "output_type": "stream",
     "text": [
      "10, 9, 8, 7, 6, 5, 4, 3, 2, 1, Happy new year!!\n"
     ]
    }
   ],
   "source": [
    "i = 10\n",
    "\n",
    "while i >= 0:\n",
    "    if i == 0:\n",
    "        print('Happy new year!!')\n",
    "        i -= 1\n",
    "    else:\n",
    "        print(\"%d, \" %i, end='')\n",
    "        i -= 1"
   ]
  },
  {
   "cell_type": "markdown",
   "id": "25fce6d9",
   "metadata": {},
   "source": [
    "## 문제3"
   ]
  },
  {
   "cell_type": "code",
   "execution_count": 6,
   "id": "e68a72e8",
   "metadata": {},
   "outputs": [
    {
     "name": "stdout",
     "output_type": "stream",
     "text": [
      "Enter two integers: 5 10\n",
      "The sum from 5 to 10 is 45\n"
     ]
    }
   ],
   "source": [
    "nums = input(\"Enter two integers: \")\n",
    "nums = nums.split()\n",
    "a, b = map(int, nums)\n",
    "s = 0\n",
    "for i in range(a, b+1):\n",
    "    s += i\n",
    "\n",
    "print(\"The sum from {} to {} is {}\".format(a, b, s))"
   ]
  },
  {
   "cell_type": "markdown",
   "id": "f41ea66d",
   "metadata": {},
   "source": [
    "## 문제4"
   ]
  },
  {
   "cell_type": "code",
   "execution_count": 7,
   "id": "0b466a33",
   "metadata": {},
   "outputs": [
    {
     "name": "stdout",
     "output_type": "stream",
     "text": [
      "3\n"
     ]
    }
   ],
   "source": [
    "word = 'banana'\n",
    "c = 0\n",
    "\n",
    "for i in word:\n",
    "    if i == 'a':\n",
    "        c += 1\n",
    "    \n",
    "print(c)"
   ]
  },
  {
   "cell_type": "markdown",
   "id": "7f662b8b",
   "metadata": {},
   "source": [
    "## 문제5"
   ]
  },
  {
   "cell_type": "code",
   "execution_count": 15,
   "id": "70982ac8",
   "metadata": {},
   "outputs": [
    {
     "name": "stdout",
     "output_type": "stream",
     "text": [
      "0 1 2 3 4 5 6 7 8 9 \n",
      "0 5 10 15 20 25 30 35 40 45 50 \n",
      "10 9 8 7 6 5 4 3 2 1 "
     ]
    }
   ],
   "source": [
    "for i in range(10):\n",
    "    print(i, end=' ')\n",
    "print()\n",
    "for i in range(11):\n",
    "    print(i*5, end=' ')\n",
    "print()\n",
    "for i in range(10, 0, -1):\n",
    "    print(i, end=' ')"
   ]
  },
  {
   "cell_type": "markdown",
   "id": "7e59bd29",
   "metadata": {},
   "source": [
    "## 문제6"
   ]
  },
  {
   "cell_type": "code",
   "execution_count": 16,
   "id": "435c40b9",
   "metadata": {
    "scrolled": true
   },
   "outputs": [
    {
     "name": "stdout",
     "output_type": "stream",
     "text": [
      "red\n",
      "green\n",
      "blue\n"
     ]
    }
   ],
   "source": [
    "colors = [\"red\", \"green\", \"blue\"]\n",
    "for i in colors:\n",
    "    print(i)"
   ]
  },
  {
   "cell_type": "markdown",
   "id": "957c3b07",
   "metadata": {},
   "source": [
    "## 문제7"
   ]
  },
  {
   "cell_type": "code",
   "execution_count": 22,
   "id": "d8282e15",
   "metadata": {},
   "outputs": [
    {
     "name": "stdout",
     "output_type": "stream",
     "text": [
      "4 6 8 10 12 "
     ]
    }
   ],
   "source": [
    "a = [1, 3, 4, 5, 6, 7, 8, 9, 10, 11, 12, 13]\n",
    "\n",
    "for i in a:\n",
    "    if i % 2 == 0:\n",
    "        print(i, end=' ')\n",
    "        "
   ]
  },
  {
   "cell_type": "markdown",
   "id": "05c87918",
   "metadata": {},
   "source": [
    "## 문제8"
   ]
  },
  {
   "cell_type": "code",
   "execution_count": 4,
   "id": "0d5e2a5b",
   "metadata": {
    "scrolled": true
   },
   "outputs": [
    {
     "name": "stdout",
     "output_type": "stream",
     "text": [
      "출력하고 싶은 단을 입력하세요: 7\n",
      "7 * 1 = 7\n",
      "7 * 2 = 14\n",
      "7 * 3 = 21\n",
      "7 * 4 = 28\n",
      "7 * 5 = 35\n",
      "7 * 6 = 42\n",
      "7 * 7 = 49\n",
      "7 * 8 = 56\n",
      "7 * 9 = 63\n"
     ]
    }
   ],
   "source": [
    "number = int(input('출력하고 싶은 단을 입력하세요: '))\n",
    "for i in range(1, 10):\n",
    "    print('{} * {} = {}'.format(number, i, number * i))"
   ]
  },
  {
   "cell_type": "markdown",
   "id": "101fa677",
   "metadata": {},
   "source": [
    "## 문제9"
   ]
  },
  {
   "cell_type": "code",
   "execution_count": 38,
   "id": "286b752f",
   "metadata": {},
   "outputs": [
    {
     "name": "stdout",
     "output_type": "stream",
     "text": [
      "==2단==\n",
      "2 * 1 =  2\n",
      "2 * 2 =  4\n",
      "2 * 3 =  6\n",
      "2 * 4 =  8\n",
      "2 * 5 = 10\n",
      "2 * 6 = 12\n",
      "2 * 7 = 14\n",
      "2 * 8 = 16\n",
      "2 * 9 = 18\n",
      "==3단==\n",
      "3 * 1 =  3\n",
      "3 * 2 =  6\n",
      "3 * 3 =  9\n",
      "3 * 4 = 12\n",
      "3 * 5 = 15\n",
      "3 * 6 = 18\n",
      "3 * 7 = 21\n",
      "3 * 8 = 24\n",
      "3 * 9 = 27\n",
      "==4단==\n",
      "4 * 1 =  4\n",
      "4 * 2 =  8\n",
      "4 * 3 = 12\n",
      "4 * 4 = 16\n",
      "4 * 5 = 20\n",
      "4 * 6 = 24\n",
      "4 * 7 = 28\n",
      "4 * 8 = 32\n",
      "4 * 9 = 36\n",
      "==5단==\n",
      "5 * 1 =  5\n",
      "5 * 2 = 10\n",
      "5 * 3 = 15\n",
      "5 * 4 = 20\n",
      "5 * 5 = 25\n",
      "5 * 6 = 30\n",
      "5 * 7 = 35\n",
      "5 * 8 = 40\n",
      "5 * 9 = 45\n",
      "==6단==\n",
      "6 * 1 =  6\n",
      "6 * 2 = 12\n",
      "6 * 3 = 18\n",
      "6 * 4 = 24\n",
      "6 * 5 = 30\n",
      "6 * 6 = 36\n",
      "6 * 7 = 42\n",
      "6 * 8 = 48\n",
      "6 * 9 = 54\n",
      "==7단==\n",
      "7 * 1 =  7\n",
      "7 * 2 = 14\n",
      "7 * 3 = 21\n",
      "7 * 4 = 28\n",
      "7 * 5 = 35\n",
      "7 * 6 = 42\n",
      "7 * 7 = 49\n",
      "7 * 8 = 56\n",
      "7 * 9 = 63\n",
      "==8단==\n",
      "8 * 1 =  8\n",
      "8 * 2 = 16\n",
      "8 * 3 = 24\n",
      "8 * 4 = 32\n",
      "8 * 5 = 40\n",
      "8 * 6 = 48\n",
      "8 * 7 = 56\n",
      "8 * 8 = 64\n",
      "8 * 9 = 72\n",
      "==9단==\n",
      "9 * 1 =  9\n",
      "9 * 2 = 18\n",
      "9 * 3 = 27\n",
      "9 * 4 = 36\n",
      "9 * 5 = 45\n",
      "9 * 6 = 54\n",
      "9 * 7 = 63\n",
      "9 * 8 = 72\n",
      "9 * 9 = 81\n"
     ]
    }
   ],
   "source": [
    "for i in range(2, 10):\n",
    "    print('==%s단==' %i)\n",
    "    for j in range(1, 10):\n",
    "        print('{} * {} = {:>2}'.format(i, j, i * j))"
   ]
  },
  {
   "cell_type": "markdown",
   "id": "af048d7f",
   "metadata": {},
   "source": [
    "## 문제10"
   ]
  },
  {
   "cell_type": "code",
   "execution_count": 45,
   "id": "9a5056b9",
   "metadata": {},
   "outputs": [
    {
     "name": "stdout",
     "output_type": "stream",
     "text": [
      "2 * 1 =  2 3 * 1 =  3 4 * 1 =  4 5 * 1 =  5 6 * 1 =  6 7 * 1 =  7 8 * 1 =  8 9 * 1 =  9 \n",
      "2 * 2 =  4 3 * 2 =  6 4 * 2 =  8 5 * 2 = 10 6 * 2 = 12 7 * 2 = 14 8 * 2 = 16 9 * 2 = 18 \n",
      "2 * 3 =  6 3 * 3 =  9 4 * 3 = 12 5 * 3 = 15 6 * 3 = 18 7 * 3 = 21 8 * 3 = 24 9 * 3 = 27 \n",
      "2 * 4 =  8 3 * 4 = 12 4 * 4 = 16 5 * 4 = 20 6 * 4 = 24 7 * 4 = 28 8 * 4 = 32 9 * 4 = 36 \n",
      "2 * 5 = 10 3 * 5 = 15 4 * 5 = 20 5 * 5 = 25 6 * 5 = 30 7 * 5 = 35 8 * 5 = 40 9 * 5 = 45 \n",
      "2 * 6 = 12 3 * 6 = 18 4 * 6 = 24 5 * 6 = 30 6 * 6 = 36 7 * 6 = 42 8 * 6 = 48 9 * 6 = 54 \n",
      "2 * 7 = 14 3 * 7 = 21 4 * 7 = 28 5 * 7 = 35 6 * 7 = 42 7 * 7 = 49 8 * 7 = 56 9 * 7 = 63 \n",
      "2 * 8 = 16 3 * 8 = 24 4 * 8 = 32 5 * 8 = 40 6 * 8 = 48 7 * 8 = 56 8 * 8 = 64 9 * 8 = 72 \n"
     ]
    }
   ],
   "source": [
    "for j in range(1, 9):\n",
    "    for i in range(2, 10):\n",
    "        print('%d * %d = %2d' %(i,j, i*j), end=' ')\n",
    "    print()"
   ]
  },
  {
   "cell_type": "markdown",
   "id": "1acd2cc7",
   "metadata": {},
   "source": [
    "## 문제11"
   ]
  },
  {
   "cell_type": "code",
   "execution_count": 11,
   "id": "5123417e",
   "metadata": {},
   "outputs": [
    {
     "name": "stdout",
     "output_type": "stream",
     "text": [
      "Input an integer: 3159\n",
      "★★★\n",
      "★\n",
      "★★★★★\n",
      "★★★★★★★★★"
     ]
    }
   ],
   "source": [
    "number = int(input('Input an integer: '))\n",
    "while number > 999:\n",
    "    print('★', end='')\n",
    "    number -= 1000\n",
    "print()\n",
    "while number > 99:\n",
    "    print('★', end='')\n",
    "    number -= 100\n",
    "print()\n",
    "while number > 9:\n",
    "    print('★', end='')\n",
    "    number -= 10\n",
    "print()\n",
    "while number > 0:\n",
    "    print('★', end='')\n",
    "    number -= 1"
   ]
  },
  {
   "cell_type": "code",
   "execution_count": null,
   "id": "d4057d2d",
   "metadata": {},
   "outputs": [],
   "source": []
  }
 ],
 "metadata": {
  "kernelspec": {
   "display_name": "Python 3 (ipykernel)",
   "language": "python",
   "name": "python3"
  },
  "language_info": {
   "codemirror_mode": {
    "name": "ipython",
    "version": 3
   },
   "file_extension": ".py",
   "mimetype": "text/x-python",
   "name": "python",
   "nbconvert_exporter": "python",
   "pygments_lexer": "ipython3",
   "version": "3.9.7"
  }
 },
 "nbformat": 4,
 "nbformat_minor": 5
}
