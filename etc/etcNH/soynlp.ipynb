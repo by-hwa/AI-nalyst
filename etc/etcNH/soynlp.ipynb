{
 "cells": [
  {
   "cell_type": "code",
   "execution_count": 12,
   "id": "9b20b544",
   "metadata": {},
   "outputs": [
    {
     "data": {
      "text/plain": [
       "52639"
      ]
     },
     "execution_count": 12,
     "metadata": {},
     "output_type": "execute_result"
    }
   ],
   "source": [
    "from soynlp import DoublespaceLineCorpus\n",
    "from soynlp.word import WordExtractor\n",
    "import pandas as pd\n",
    "# data = pd.read_csv('kospi200articles_1.csv')\n",
    "corpus = DoublespaceLineCorpus(\"kospi200articles_1.csv\")\n",
    "len(corpus)"
   ]
  },
  {
   "cell_type": "code",
   "execution_count": 11,
   "id": "a75902e1",
   "metadata": {},
   "outputs": [
    {
     "name": "stdout",
     "output_type": "stream",
     "text": [
      "training was done. used memory 0.989 Gb\n",
      "all cohesion probabilities was computed. # words = 259478\n",
      "all branching entropies was computed # words = 475389\n",
      "all accessor variety was computed # words = 475389\n"
     ]
    }
   ],
   "source": [
    "word_extractor = WordExtractor()\n",
    "word_extractor.train(corpus)\n",
    "word_score_table = word_extractor.extract()"
   ]
  },
  {
   "cell_type": "code",
   "execution_count": 13,
   "id": "4a4dc0af",
   "metadata": {},
   "outputs": [
    {
     "data": {
      "text/plain": [
       "0.4950109927278877"
      ]
     },
     "execution_count": 13,
     "metadata": {},
     "output_type": "execute_result"
    }
   ],
   "source": [
    "word_score_table[\"코로\"].cohesion_forward # 응집 확률은 내부 문자열(substring)이 얼마나 응집하여 자주 등장하는지를 판단하는 척도"
   ]
  },
  {
   "cell_type": "code",
   "execution_count": 15,
   "id": "13fd1138",
   "metadata": {},
   "outputs": [
    {
     "data": {
      "text/plain": [
       "0.7034499796270575"
      ]
     },
     "execution_count": 15,
     "metadata": {},
     "output_type": "execute_result"
    }
   ],
   "source": [
    "word_score_table[\"코로나\"].cohesion_forward # 값이 높을수록 전체 코퍼스에서 이 문자열 시퀀스는 하나의 단어로 등장할 가능성이 높다."
   ]
  },
  {
   "cell_type": "code",
   "execution_count": 16,
   "id": "6e2c7500",
   "metadata": {},
   "outputs": [
    {
     "data": {
      "text/plain": [
       "0.7757150135686466"
      ]
     },
     "execution_count": 16,
     "metadata": {},
     "output_type": "execute_result"
    }
   ],
   "source": [
    "word_score_table[\"코로나19\"].cohesion_forward"
   ]
  },
  {
   "cell_type": "code",
   "execution_count": 17,
   "id": "9e018fad",
   "metadata": {},
   "outputs": [
    {
     "data": {
      "text/plain": [
       "0.0030685215045665112"
      ]
     },
     "execution_count": 17,
     "metadata": {},
     "output_type": "execute_result"
    }
   ],
   "source": [
    "word_score_table[\"코로\"].right_branching_entropy"
   ]
  },
  {
   "cell_type": "code",
   "execution_count": 18,
   "id": "065c6379",
   "metadata": {},
   "outputs": [
    {
     "data": {
      "text/plain": [
       "1.6556734643203086"
      ]
     },
     "execution_count": 18,
     "metadata": {},
     "output_type": "execute_result"
    }
   ],
   "source": [
    "word_score_table[\"코로나\"].right_branching_entropy"
   ]
  },
  {
   "cell_type": "code",
   "execution_count": 19,
   "id": "d324b5b3",
   "metadata": {},
   "outputs": [
    {
     "data": {
      "text/plain": [
       "3.602749959597336"
      ]
     },
     "execution_count": 19,
     "metadata": {},
     "output_type": "execute_result"
    }
   ],
   "source": [
    "word_score_table[\"코로나19\"].right_branching_entropy # 하나의 단어가 끝나면 그 경계 부분부터 다시 브랜칭 엔트로피 값이 증가하게 됨"
   ]
  },
  {
   "cell_type": "code",
   "execution_count": null,
   "id": "1fb64cf3",
   "metadata": {},
   "outputs": [],
   "source": []
  }
 ],
 "metadata": {
  "kernelspec": {
   "display_name": "Python 3 (ipykernel)",
   "language": "python",
   "name": "python3"
  },
  "language_info": {
   "codemirror_mode": {
    "name": "ipython",
    "version": 3
   },
   "file_extension": ".py",
   "mimetype": "text/x-python",
   "name": "python",
   "nbconvert_exporter": "python",
   "pygments_lexer": "ipython3",
   "version": "3.9.7"
  }
 },
 "nbformat": 4,
 "nbformat_minor": 5
}
