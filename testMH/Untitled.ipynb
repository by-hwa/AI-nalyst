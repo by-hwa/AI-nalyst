{
 "cells": [
  {
   "cell_type": "code",
   "execution_count": 1,
   "id": "6dc929de-2720-4cd0-9b57-c4866f9c1741",
   "metadata": {},
   "outputs": [],
   "source": [
    "import pandas as pd"
   ]
  },
  {
   "cell_type": "code",
   "execution_count": 16,
   "id": "2dc30e7e-8df7-4577-bb78-7f435f050833",
   "metadata": {},
   "outputs": [],
   "source": [
    "df = pd.read_csv(\"./data/strongbuy.csv\")\n",
    "df_pororo = pd.read_csv(\"./data/strongbuy_expand_pororo_en.csv\")\n",
    "df_google_en = pd.read_csv(\"./data/strongbuy_expand_google_en.csv\")\n",
    "df_google_zhcn = pd.read_csv(\"./data/strongbuy_expand_google_zhcn.csv\")"
   ]
  },
  {
   "cell_type": "code",
   "execution_count": 28,
   "id": "311bd827-1387-40f9-bc31-965f17a92486",
   "metadata": {},
   "outputs": [
    {
     "name": "stdout",
     "output_type": "stream",
     "text": [
      "Original Data \n",
      "\n",
      "3. Valuation 한화테크윈 투자의견 STRONG BUY 및 목표주가 55,000원을 유지한다. 한화테크윈은 영업실적 개선 가능성이 매우 높은데다 지분법이이익(한화종합화학) 또한 증가추세로, 2016년 실적전망치 기준 PER 20.5배, PBR 1.2배 수준에서 거래되고 있다. 하지만, 여기서 간과하면 안될 것이 바로 한국항공우주 지분(10%)다. 현재 시가총액을 감안했을 때 한국항공우주 지분가치(8,178억원)을 반영할 경우 영업가치는 약 1조원 정도로 약 PER 10.6배 수준의 가치로 산정된다. 즉, 절대적으로 비싸지 않은 수준이다. 여기에 지분법이익 증가 속도가 현재와 같다면, 다른 업종의 업체와도 비교해도 절대적 저평가 수준까지 EPS 개선이 가능할 것으로 전망한다. 즉, 한화테크윈은 현 시점에서도 비싸지 않다. 따라서, 현재의 낮은 멀티플은 2016년 기계 업종 최선호주로 한화테크윈이 되기 충분하다.\n",
      "----------------------------------------------------------------------------------------------------\n",
      "Kakaobrain/Pororo - En \n",
      "\n",
      "3번. 밸류에이션 한화테크윈투자의견 BUY와 목표주가 5만5,000원에 머물게 된다. 한화테크윈은 사업성과 개선 가능성이 높고, 지분기반 이익(한화종합화학)도 2016년 실적 전망치의 20.5배, PBR의 1.2배에 달하는 상승세를 보이고 있다. 그러나 여기서(10%) 간과해서는 안 된다. 현재 시가총액을 고려하면 대한항공 지분 가치(8178억원)가 반영된다면 영업가치는 약 1조원으로 PER 가치의 10.6배에 달한다. 절대로 비싸지 않다는 얘기다. 여기에 현재 지분이익 증가 속도가 같을 경우 다른 기업에 비해 절대적으로 저평가 수준으로 개선될 것으로 예상된다. 지금 시점에서 한화테크윈이 비싸지 않다는 얘기다. 따라서 2016년 기계산업에서 가장 선호하는 선수로 한화테크윈이 될 수 있을 정도로 현재 낮은 복수가 많다.\n",
      "----------------------------------------------------------------------------------------------------\n",
      "Google/googletrans - En \n",
      "\n",
      "3. 평가 한 샤 테크윈 투자 의견 강력한 구매 및 목표 주가 55,000 원.Hanwha Techwin은 운영 수입을 개선 할 가능성이 높으며, 주식 방법 (Hanwha Chemistry)도 증가하고 있으며 2016 년 수입 예측을 기준으로 20.5 배 및 PBR 1.2 배에 달하는 거래입니다.그러나 여기서는 한국 항공 우주의 지분 (10%)이 간과되어서는 안됩니다.현재 시가 총액을 고려할 때, 회사의 운영 가치는 약 1 조 원이며, 약 1 조원은 약 1 조원입니다.다시 말해, 그것은 절대 비싸지 않습니다.또한, 주식 방법의 증가율이 동일하다면, EPS는 다른 산업의 다른 회사에 비해 절대 저평가 수준으로 향상 될 수있을 것으로 예상됩니다.다시 말해, Hanwha Techwin 은이 시점에서 비싸지 않습니다.따라서 현재 낮은 배수는 2016 년 최고의 호주인 최고입니다.\n",
      "----------------------------------------------------------------------------------------------------\n",
      "Google/googletrans - zhcn \n",
      "\n",
      "3. 강력한 구매 및 목표 주가에 대한 Hanwha Techwin 투자 의견 평가는 55,000 원입니다.Hanwha Techwin은 영업 소득을 증가시킬 가능성이 높으며, 주식 방법 (Hanwha Chemistry)도 증가하고 있으며 2016 년 수익 예측에 따르면 거래 가격은 PBR 당 20.5 배, PBR 1.2 배입니다.그러나 여기서는 한국 항공 우주 (10 %)를 무시해서는 안됩니다 (10 %).현재 시장 가치를 고려할 때 회사의 운영 가치는 약 1 조 원, 약 1 조원, 약 1 조원입니다.다시 말해, 이것은 확실히 비싸지 않습니다.또한, 다른 산업의 다른 회사와 비교할 때 주식 방법의 증가가 동일하다면, 주당 수입은 절대적으로 과소 평가 된 수준으로 증가 할 것으로 예상됩니다.다시 말해, Hanwha Techwin은 현재 비싸지 않았습니다.따라서 현재 낮은 배수는 2016 년 최고의 호주이며 한 wha Techwin이되기에 충분합니다.\n"
     ]
    }
   ],
   "source": [
    "index = 250\n",
    "print(f\"Original Data \\n\\n{df.iloc[index]['article']}\")\n",
    "print('-'*100)\n",
    "print(f\"Kakaobrain/Pororo - En \\n\\n{df_pororo.iloc[index]['article']}\")\n",
    "print('-'*100)\n",
    "print(f\"Google/googletrans - En \\n\\n{df_google_en.iloc[index]['article']}\")\n",
    "print('-'*100)\n",
    "print(f\"Google/googletrans - zhcn \\n\\n{df_google_zhcn.iloc[index]['article']}\")\n",
    "\n",
    "# for index, (_, article, length, _) in df.iterrows():\n",
    "#     if 200 < length < 400:\n",
    "#         print(index, length)\n",
    "#         print(article)\n",
    "#         print('-'*100)"
   ]
  },
  {
   "cell_type": "code",
   "execution_count": null,
   "id": "ff95a432-4b07-407a-a57d-f2431c16f170",
   "metadata": {},
   "outputs": [],
   "source": []
  }
 ],
 "metadata": {
  "kernelspec": {
   "display_name": "Python 3 (ipykernel)",
   "language": "python",
   "name": "python3"
  },
  "language_info": {
   "codemirror_mode": {
    "name": "ipython",
    "version": 3
   },
   "file_extension": ".py",
   "mimetype": "text/x-python",
   "name": "python",
   "nbconvert_exporter": "python",
   "pygments_lexer": "ipython3",
   "version": "3.9.7"
  }
 },
 "nbformat": 4,
 "nbformat_minor": 5
}
