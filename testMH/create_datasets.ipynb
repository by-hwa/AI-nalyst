{
 "cells": [
  {
   "cell_type": "code",
   "execution_count": 1,
   "id": "ec49e549-7e09-400b-bf63-53c2c6e9a4d4",
   "metadata": {},
   "outputs": [],
   "source": [
    "import os\n",
    "import random\n",
    "import numpy as np\n",
    "import pandas as pd\n",
    "import torch\n",
    "import transformers\n",
    "from tqdm import tqdm, tqdm_notebook\n",
    "from datasets import load_dataset, load_metric\n",
    "from sklearn.model_selection import train_test_split\n",
    "from torch.utils.data import Dataset, DataLoader\n",
    "from transformers import AutoTokenizer"
   ]
  },
  {
   "cell_type": "code",
   "execution_count": 35,
   "id": "68e55c8e-fb6b-4925-be0c-435e19b2c088",
   "metadata": {},
   "outputs": [
    {
     "name": "stdout",
     "output_type": "stream",
     "text": [
      "cuda:0\n"
     ]
    }
   ],
   "source": [
    "def seed_everything(seed=42):\n",
    "    random.seed(seed)\n",
    "    np.random.seed(seed)\n",
    "    os.environ['PYTHONHASHSEED'] = str(seed)\n",
    "    torch.manual_seed(seed)\n",
    "    torch.cuda.manual_seed(seed)  # type: ignore\n",
    "    torch.cuda.manual_seed_all(seed)\n",
    "    torch.backends.cudnn.benchmark = True  # type: ignore\n",
    "    torch.backends.cudnn.deterministic = True  # type: ignore\n",
    "\n",
    "SEED = 42\n",
    "seed_everything(SEED)\n",
    "device = torch.device('cuda:0' if torch.cuda.is_available() else 'cpu')\n",
    "print(device)"
   ]
  },
  {
   "cell_type": "code",
   "execution_count": 13,
   "id": "6d39eb95-5b7a-4c7b-8f20-009a4e0c1d07",
   "metadata": {},
   "outputs": [
    {
     "name": "stdout",
     "output_type": "stream",
     "text": [
      "<class 'pandas.core.frame.DataFrame'>\n",
      "RangeIndex: 2750 entries, 0 to 2749\n",
      "Data columns (total 4 columns):\n",
      " #   Column    Non-Null Count  Dtype \n",
      "---  ------    --------------  ----- \n",
      " 0   filename  2750 non-null   object\n",
      " 1   article   2750 non-null   object\n",
      " 2   length    2750 non-null   int64 \n",
      " 3   label     2750 non-null   int64 \n",
      "dtypes: int64(2), object(2)\n",
      "memory usage: 86.1+ KB\n",
      "\n",
      "1    1637\n",
      "0    1113\n",
      "Name: label, dtype: int64\n",
      "\n",
      "(2750, 4)\n"
     ]
    }
   ],
   "source": [
    "DATA_PATH = \"./data/\"\n",
    "data_strongbuy = pd.read_csv(os.path.join(DATA_PATH, \"strongbuy.csv\")) # 1637\n",
    "data_sell = pd.read_csv(os.path.join(DATA_PATH, \"sellall.csv\")) # 1113\n",
    "data_sell.drop(columns='Unnamed: 0', inplace=True)\n",
    "\n",
    "df = pd.concat([data_strongbuy, data_sell], ignore_index=True)\n",
    "df.info()\n",
    "print()\n",
    "print(df['label'].value_counts()); print()\n",
    "print(df.shape)"
   ]
  },
  {
   "cell_type": "code",
   "execution_count": 49,
   "id": "a5f0503d-30b6-45d1-8018-bcc7fc77338a",
   "metadata": {},
   "outputs": [
    {
     "name": "stdout",
     "output_type": "stream",
     "text": [
      "(2750, 4)\n",
      "(1760, 4)\n",
      "(440, 4)\n",
      "(550, 4)\n",
      "\n",
      "df_train label counts:\n",
      "1    1048\n",
      "0     712\n",
      "Name: label, dtype: int64\n",
      "\n",
      "df_valid label counts:\n",
      "1    262\n",
      "0    178\n",
      "Name: label, dtype: int64\n",
      "\n",
      "df_test label counts:\n",
      "1    327\n",
      "0    223\n",
      "Name: label, dtype: int64\n"
     ]
    }
   ],
   "source": [
    "print(df.shape)\n",
    "\n",
    "df_train_valid, df_test = train_test_split(df, test_size=0.2, random_state=SEED, stratify=df['label'])\n",
    "df_train, df_valid = train_test_split(df_train_valid, test_size=0.2, random_state=SEED, stratify=df_train_valid['label'])\n",
    "\n",
    "print(df_train.shape)\n",
    "print(df_valid.shape)\n",
    "print(df_test.shape)\n",
    "print()\n",
    "\n",
    "print(\"df_train label counts:\"); print(df_train['label'].value_counts()); print()\n",
    "print(\"df_valid label counts:\"); print(df_valid['label'].value_counts()); print()\n",
    "print(\"df_test label counts:\"); print(df_test['label'].value_counts())"
   ]
  },
  {
   "cell_type": "code",
   "execution_count": 52,
   "id": "1625d25e-e131-4cb2-8396-b7ffe4fdd444",
   "metadata": {},
   "outputs": [],
   "source": [
    "df_train_valid.to_csv(\"./data/train_report.tsv\", index=False, sep='\\t')\n",
    "df_valid.to_csv(\"./data/valid_report.tsv\", index=False, sep='\\t')\n",
    "df_test.to_csv(\"./data/test_report.tsv\", index=False, sep='\\t')"
   ]
  },
  {
   "cell_type": "code",
   "execution_count": null,
   "id": "9cba33ce-451f-4240-af1b-985ffa30fa2b",
   "metadata": {},
   "outputs": [],
   "source": [
    "# MODEL = 'skt/kobert-base-v1'\n",
    "# MAX_LEN = 512\n",
    "\n",
    "# train_datasets = load_dataset(\"csv\", data_files=\"./data/train_report.csv\")['train']\n",
    "# valid_datasets = load_dataset(\"csv\", data_files=\"./data/test_report.csv\")['train']\n",
    "\n",
    "# tokenizer = AutoTokenizer.from_pretrained(MODEL)\n",
    "# # tokenizer.truncation_side = 'left'\n",
    "\n",
    "# def example_fn(examples):\n",
    "#     outputs = tokenizer(examples['article'], padding=True, max_length=MAX_LEN, truncation=True)\n",
    "#     if 'label' in examples:\n",
    "#         outputs['labels'] = examples['label']\n",
    "#     return outputs\n",
    "\n",
    "# train_datasets = train_datasets.map(example_fn, remove_columns=['Unnamed: 0', 'filename', 'article', 'length', 'label'])\n",
    "# valid_datasets = valid_datasets.map(example_fn, remove_columns=['Unnamed: 0', 'filename', 'article', 'length', 'label'])"
   ]
  },
  {
   "cell_type": "code",
   "execution_count": null,
   "id": "1b1ee6ba-53df-4d9e-8ebe-a87d257a7a23",
   "metadata": {},
   "outputs": [],
   "source": [
    "# train_datasets.save_to_disk(\"./data/train_reports\")\n",
    "# valid_datasets.save_to_disk(\"./data/valid_reports\")"
   ]
  }
 ],
 "metadata": {
  "kernelspec": {
   "display_name": "Python 3 (ipykernel)",
   "language": "python",
   "name": "python3"
  },
  "language_info": {
   "codemirror_mode": {
    "name": "ipython",
    "version": 3
   },
   "file_extension": ".py",
   "mimetype": "text/x-python",
   "name": "python",
   "nbconvert_exporter": "python",
   "pygments_lexer": "ipython3",
   "version": "3.9.7"
  }
 },
 "nbformat": 4,
 "nbformat_minor": 5
}
