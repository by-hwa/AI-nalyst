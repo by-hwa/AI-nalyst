{
 "cells": [
  {
   "cell_type": "code",
   "execution_count": 1,
   "id": "1e32c8fc",
   "metadata": {},
   "outputs": [],
   "source": [
    "from selenium import webdriver\n",
    "import time\n",
    "import pandas as pd\n",
    "from selenium.webdriver.common.action_chains import ActionChains\n",
    "from selenium.webdriver.chrome.options import Options\n",
    "chrome_options = Options()\n",
    "chrome_options.add_argument('--headless')        # Head-less 설정\n",
    "chrome_options.add_argument('--no-sandbox')\n",
    "chrome_options.add_argument('--disable-dev-shm-usage')\n",
    "chrome_options.add_experimental_option('prefs',  {\n",
    "    \"download.default_directory\": r'/home/piai/다운로드/reports',\n",
    "    \"download.prompt_for_download\": False,\n",
    "    \"download.directory_upgrade\": True,\n",
    "    \"plugins.always_open_pdf_externally\": True\n",
    "    }\n",
    ")"
   ]
  },
  {
   "cell_type": "code",
   "execution_count": 2,
   "id": "470f0b65",
   "metadata": {
    "scrolled": true
   },
   "outputs": [
    {
     "name": "stderr",
     "output_type": "stream",
     "text": [
      "/tmp/ipykernel_70306/669713187.py:1: DeprecationWarning: executable_path has been deprecated, please pass in a Service object\n",
      "  browser = webdriver.Chrome(\"/home/piai/다운로드/chromedriver\", options=chrome_options)\n",
      "/tmp/ipykernel_70306/669713187.py:3: DeprecationWarning: find_element_by_xpath is deprecated. Please use find_element(by=By.XPATH, value=xpath) instead\n",
      "  lastpage = browser.find_element_by_xpath(\"//*[@id='contents']/div[3]/a[12]\")\n",
      "/tmp/ipykernel_70306/669713187.py:11: DeprecationWarning: find_element_by_xpath is deprecated. Please use find_element(by=By.XPATH, value=xpath) instead\n",
      "  date = browser.find_element_by_xpath(f\"//*[@id='contents']/div[2]/table/tbody/tr[{j}]/td[1]\")\n",
      "/tmp/ipykernel_70306/669713187.py:13: DeprecationWarning: find_element_by_xpath is deprecated. Please use find_element(by=By.XPATH, value=xpath) instead\n",
      "  title = browser.find_element_by_xpath(f\"//*[@id='contents']/div[2]/table/tbody/tr[{j}]/td[2]\")\n",
      "/tmp/ipykernel_70306/669713187.py:15: DeprecationWarning: find_element_by_xpath is deprecated. Please use find_element(by=By.XPATH, value=xpath) instead\n",
      "  price = browser.find_element_by_xpath(f\"//*[@id='contents']/div[2]/table/tbody/tr[{j}]/td[3]\")\n",
      "/tmp/ipykernel_70306/669713187.py:17: DeprecationWarning: find_element_by_xpath is deprecated. Please use find_element(by=By.XPATH, value=xpath) instead\n",
      "  consensus = browser.find_element_by_xpath(f\"//*[@id='contents']/div[2]/table/tbody/tr[{j}]/td[4]\")\n",
      "/tmp/ipykernel_70306/669713187.py:19: DeprecationWarning: find_element_by_xpath is deprecated. Please use find_element(by=By.XPATH, value=xpath) instead\n",
      "  analyst = browser.find_element_by_xpath(f\"//*[@id='contents']/div[2]/table/tbody/tr[{j}]/td[5]\")\n",
      "/tmp/ipykernel_70306/669713187.py:21: DeprecationWarning: find_element_by_xpath is deprecated. Please use find_element(by=By.XPATH, value=xpath) instead\n",
      "  firm = browser.find_element_by_xpath(f\"//*[@id='contents']/div[2]/table/tbody/tr[{j}]/td[6]\")\n",
      "/tmp/ipykernel_70306/669713187.py:23: DeprecationWarning: find_element_by_xpath is deprecated. Please use find_element(by=By.XPATH, value=xpath) instead\n",
      "  pdf = browser.find_element_by_xpath(f\"//*[@id='contents']/div[2]/table/tbody/tr[{j}]/td[9]/div/a\")\n"
     ]
    },
    {
     "name": "stdout",
     "output_type": "stream",
     "text": [
      "2022-07-06 고려신용정보(049720) 채권추심 시장의 All-round Player 0 Not Rated 김용호 한화투자증권 611099\n",
      "2022-07-06 NHN(181710) 주가 상승 트리거는 웹보드 수익성이 두드러 질 때 45,000 Buy 김소혜 한화투자증권 611098\n",
      "2022-07-06 컴투스(078340) 크로니클 출시 일정 확정으로 최대 리스크 제거 100,000 Buy 김소혜 한화투자증권 611097\n",
      "2022-07-06 DL이앤씨(375500) 개선의 방향성에 초점 66,000 Buy 송유림 한화투자증권 611094\n",
      "2022-07-06 티앤엘(340570) 앞으로 좋아질 일만 남았다 46,000 Buy 조은애 이베스트증권 611093\n",
      "2022-07-06 카카오게임즈(293490) 이제는 하반기 신작들 주목 시점 71,000 Buy 성종화 이베스트증권 611092\n",
      "2022-07-06 현대백화점(069960) 2Q22 Preview: 백화점이 달라졌다 95,000 Buy 오린아 이베스트증권 611089\n"
     ]
    },
    {
     "ename": "KeyboardInterrupt",
     "evalue": "",
     "output_type": "error",
     "traceback": [
      "\u001b[0;31m---------------------------------------------------------------------------\u001b[0m",
      "\u001b[0;31mKeyboardInterrupt\u001b[0m                         Traceback (most recent call last)",
      "\u001b[0;32m/tmp/ipykernel_70306/669713187.py\u001b[0m in \u001b[0;36m<module>\u001b[0;34m\u001b[0m\n\u001b[1;32m     25\u001b[0m         \u001b[0mreport_idx\u001b[0m \u001b[0;34m=\u001b[0m \u001b[0mreport_idx\u001b[0m\u001b[0;34m.\u001b[0m\u001b[0msplit\u001b[0m\u001b[0;34m(\u001b[0m\u001b[0;34m\"=\"\u001b[0m\u001b[0;34m)\u001b[0m\u001b[0;34m[\u001b[0m\u001b[0;34m-\u001b[0m\u001b[0;36m1\u001b[0m\u001b[0;34m]\u001b[0m \u001b[0;31m# pdf파일명 -> primary key\u001b[0m\u001b[0;34m\u001b[0m\u001b[0;34m\u001b[0m\u001b[0m\n\u001b[1;32m     26\u001b[0m         \u001b[0mpdf\u001b[0m\u001b[0;34m.\u001b[0m\u001b[0mclick\u001b[0m\u001b[0;34m(\u001b[0m\u001b[0;34m)\u001b[0m\u001b[0;34m\u001b[0m\u001b[0;34m\u001b[0m\u001b[0m\n\u001b[0;32m---> 27\u001b[0;31m         \u001b[0mtime\u001b[0m\u001b[0;34m.\u001b[0m\u001b[0msleep\u001b[0m\u001b[0;34m(\u001b[0m\u001b[0;36m1\u001b[0m\u001b[0;34m)\u001b[0m\u001b[0;34m\u001b[0m\u001b[0;34m\u001b[0m\u001b[0m\n\u001b[0m\u001b[1;32m     28\u001b[0m         \u001b[0mprint\u001b[0m\u001b[0;34m(\u001b[0m\u001b[0mdate\u001b[0m\u001b[0;34m,\u001b[0m \u001b[0mtitle\u001b[0m\u001b[0;34m,\u001b[0m \u001b[0mprice\u001b[0m\u001b[0;34m,\u001b[0m \u001b[0mconsensus\u001b[0m\u001b[0;34m,\u001b[0m \u001b[0manalyst\u001b[0m\u001b[0;34m,\u001b[0m \u001b[0mfirm\u001b[0m\u001b[0;34m,\u001b[0m \u001b[0mreport_idx\u001b[0m\u001b[0;34m)\u001b[0m\u001b[0;34m\u001b[0m\u001b[0;34m\u001b[0m\u001b[0m\n",
      "\u001b[0;31mKeyboardInterrupt\u001b[0m: "
     ]
    }
   ],
   "source": [
    "browser = webdriver.Chrome(\"/home/piai/다운로드/chromedriver\", options=chrome_options)\n",
    "browser.get(\"http://hkconsensus.hankyung.com/apps.analysis/analysis.list?sdate=2014-07-01&edate=2022-07-06&now_page=1&report_type=CO&pagenum=80\")\n",
    "lastpage = browser.find_element_by_xpath(\"//*[@id='contents']/div[3]/a[12]\")\n",
    "lastpagenumber = lastpage.get_attribute(\"href\")\n",
    "lastpagenumber = int(lastpagenumber.split(\"=\")[-1])\n",
    "\n",
    "for i in range(1,lastpagenumber+1):\n",
    "    browser.get(f\"http://hkconsensus.hankyung.com/apps.analysis/analysis.list?sdate=2014-07-01&edate=2022-07-06&now_page={i}&report_type=CO&pagenum=80\")\n",
    "    time.sleep(2)\n",
    "    for j in range(1, 81):\n",
    "        date = browser.find_element_by_xpath(f\"//*[@id='contents']/div[2]/table/tbody/tr[{j}]/td[1]\")\n",
    "        date = date.text\n",
    "        title = browser.find_element_by_xpath(f\"//*[@id='contents']/div[2]/table/tbody/tr[{j}]/td[2]\")\n",
    "        title = title.text\n",
    "        price = browser.find_element_by_xpath(f\"//*[@id='contents']/div[2]/table/tbody/tr[{j}]/td[3]\")\n",
    "        price = price.text\n",
    "        consensus = browser.find_element_by_xpath(f\"//*[@id='contents']/div[2]/table/tbody/tr[{j}]/td[4]\")\n",
    "        consensus = consensus.text\n",
    "        analyst = browser.find_element_by_xpath(f\"//*[@id='contents']/div[2]/table/tbody/tr[{j}]/td[5]\")\n",
    "        analyst = analyst.text\n",
    "        firm = browser.find_element_by_xpath(f\"//*[@id='contents']/div[2]/table/tbody/tr[{j}]/td[6]\")\n",
    "        firm = firm.text\n",
    "        pdf = browser.find_element_by_xpath(f\"//*[@id='contents']/div[2]/table/tbody/tr[{j}]/td[9]/div/a\")\n",
    "        report_idx = pdf.get_attribute(\"href\")\n",
    "        report_idx = report_idx.split(\"=\")[-1] # pdf파일명 -> primary key \n",
    "        pdf.click()\n",
    "        time.sleep(1)\n",
    "        print(date, title, price, consensus, analyst, firm, report_idx)"
   ]
  },
  {
   "cell_type": "code",
   "execution_count": null,
   "id": "e5fe081a",
   "metadata": {},
   "outputs": [],
   "source": []
  }
 ],
 "metadata": {
  "kernelspec": {
   "display_name": "Python 3 (ipykernel)",
   "language": "python",
   "name": "python3"
  },
  "language_info": {
   "codemirror_mode": {
    "name": "ipython",
    "version": 3
   },
   "file_extension": ".py",
   "mimetype": "text/x-python",
   "name": "python",
   "nbconvert_exporter": "python",
   "pygments_lexer": "ipython3",
   "version": "3.9.7"
  }
 },
 "nbformat": 4,
 "nbformat_minor": 5
}
