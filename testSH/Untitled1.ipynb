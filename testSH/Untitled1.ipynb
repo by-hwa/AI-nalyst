{
 "cells": [
  {
   "cell_type": "code",
   "execution_count": 1,
   "id": "b678b916-a537-44c5-a990-a788359d1748",
   "metadata": {},
   "outputs": [],
   "source": [
    "import json\n",
    "import numpy as np"
   ]
  },
  {
   "cell_type": "code",
   "execution_count": 14,
   "id": "bf479c43-7838-4052-b10f-bf2c895285a6",
   "metadata": {},
   "outputs": [],
   "source": [
    "json_file = open(\"./inference_config.json\", encoding=\"utf-8\")\n",
    "key_dict = json.loads(json_file.read())\n",
    "\n",
    "data_file_path = key_dict[\"data_file_path\"]\n",
    "save_file_path = key_dict[\"save_file_path\"]\n",
    "pretrained_path = key_dict[\"pretrained_path\"]\n",
    "pretrained_model = key_dict[\"pretrained_model\"]\n",
    "inference_model_list = key_dict[\"inference_model_list\"]"
   ]
  },
  {
   "cell_type": "code",
   "execution_count": 10,
   "id": "a9619d64-7070-4007-8b5e-e57b53dc565b",
   "metadata": {},
   "outputs": [
    {
     "data": {
      "text/plain": [
       "'./model/kb-albert-char-base-v2'"
      ]
     },
     "execution_count": 10,
     "metadata": {},
     "output_type": "execute_result"
    }
   ],
   "source": [
    "pretrained_path + pretrained_model"
   ]
  },
  {
   "cell_type": "code",
   "execution_count": 15,
   "id": "af9bb870-2409-4d1c-b340-d0fda567d4bb",
   "metadata": {},
   "outputs": [
    {
     "data": {
      "text/plain": [
       "{'kobert': ['koBERT_train.pt'],\n",
       " 'roberta': ['roBERTa_train.pt'],\n",
       " 'albert': ['kbalbert_agument_epoch1_fold5_without_papago.pt',\n",
       "  'kbalbert_agument_epoch3_fold5_without_papago.pt',\n",
       "  'kbalbert_agument_epoch5_fold5_without_papago.pt',\n",
       "  'kbalbert_origin_epoch1_fold5.pt',\n",
       "  'kbalbert_origin_epoch3_fold5.pt']}"
      ]
     },
     "execution_count": 15,
     "metadata": {},
     "output_type": "execute_result"
    }
   ],
   "source": [
    "inference_model_list"
   ]
  },
  {
   "cell_type": "code",
   "execution_count": 19,
   "id": "ff1cb7d7-4d34-4a13-ba3c-a4111790b153",
   "metadata": {},
   "outputs": [
    {
     "name": "stdout",
     "output_type": "stream",
     "text": [
      "['koBERT_train.pt']\n",
      "['roBERTa_train.pt']\n",
      "['kbalbert_agument_epoch1_fold5_without_papago.pt', 'kbalbert_agument_epoch3_fold5_without_papago.pt', 'kbalbert_agument_epoch5_fold5_without_papago.pt', 'kbalbert_origin_epoch1_fold5.pt', 'kbalbert_origin_epoch3_fold5.pt']\n"
     ]
    }
   ],
   "source": [
    "for a in inference_model_list:\n",
    "    print(inference_model_list[a])"
   ]
  },
  {
   "cell_type": "code",
   "execution_count": 22,
   "id": "7b6fce26-3149-4057-b622-7d97fd4a1ac2",
   "metadata": {},
   "outputs": [],
   "source": [
    "fold_number = 3\n",
    "\n",
    "aa = \"./data/\"\n",
    "bb = f\"train_data_fold{fold_number}.csv\""
   ]
  },
  {
   "cell_type": "code",
   "execution_count": 24,
   "id": "b865830a-302c-41a8-9a90-934f656e0567",
   "metadata": {},
   "outputs": [
    {
     "data": {
      "text/plain": [
       "'./data/train_data_fold3.csv'"
      ]
     },
     "execution_count": 24,
     "metadata": {},
     "output_type": "execute_result"
    }
   ],
   "source": [
    "aa + bb"
   ]
  },
  {
   "cell_type": "code",
   "execution_count": 31,
   "id": "c773a939-2d9b-4912-88e7-248d7a6fc0a5",
   "metadata": {},
   "outputs": [
    {
     "data": {
      "text/plain": [
       "[7, 7, 7, 8]"
      ]
     },
     "execution_count": 31,
     "metadata": {},
     "output_type": "execute_result"
    }
   ],
   "source": [
    "from itertools import repeat\n",
    "\n",
    "def sum_four(a, b):\n",
    "    return a + b\n",
    "\n",
    "list(map(sum_four, repeat(5), [2, 2, 2, 3]))"
   ]
  },
  {
   "cell_type": "code",
   "execution_count": null,
   "id": "cab745df-18c7-405a-91d4-97309eebe700",
   "metadata": {},
   "outputs": [],
   "source": []
  }
 ],
 "metadata": {
  "kernelspec": {
   "display_name": "Python 3 (ipykernel)",
   "language": "python",
   "name": "python3"
  },
  "language_info": {
   "codemirror_mode": {
    "name": "ipython",
    "version": 3
   },
   "file_extension": ".py",
   "mimetype": "text/x-python",
   "name": "python",
   "nbconvert_exporter": "python",
   "pygments_lexer": "ipython3",
   "version": "3.7.13"
  }
 },
 "nbformat": 4,
 "nbformat_minor": 5
}
