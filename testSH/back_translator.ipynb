{
 "cells": [
  {
   "cell_type": "code",
   "execution_count": 6,
   "id": "5200f1be",
   "metadata": {},
   "outputs": [],
   "source": [
    "import pandas as pd\n",
    "import re\n",
    "from io import StringIO\n",
    "from pdfminer.converter import TextConverter\n",
    "from pdfminer.layout import LAParams\n",
    "from pdfminer.pdfdocument import PDFDocument\n",
    "from pdfminer.pdfinterp import PDFResourceManager, PDFPageInterpreter\n",
    "from pdfminer.pdfpage import PDFPage\n",
    "from pdfminer.pdfparser import PDFParser"
   ]
  },
  {
   "cell_type": "code",
   "execution_count": 7,
   "id": "22862acb",
   "metadata": {},
   "outputs": [],
   "source": [
    "def preprocessing(data):\n",
    "    # data = re.sub(' {3,}', '@', data)\n",
    "    # data = re.sub(' ', \"\", data)\n",
    "    # data = re.sub('@', ' ', data)\n",
    "    data = re.sub(r'\\n', '', data)\n",
    "    REMOVE_CHARS = re.compile(\"'+|(=+.{2,30}=+)|__TOC__|(ファイル:).+|:(en|de|it|fr|es|kr|zh|no|fi):\", re.UNICODE)\n",
    "    SPACE_CHARS = re.compile(\"(\\\\s|゙|゚|　)+\", re.UNICODE)\n",
    "    EMAIL_PATTERN = re.compile(\"(^[a-zA-Z0-9_.+-]+@[a-zA-Z0-9-]+\\.[a-zA-Z0-9-.]+$)\", re.UNICODE)\n",
    "    URL_PATTERN = re.compile(\"(ftp|http|https)?://(?:[a-zA-Z]|[0-9]|[$-_@.&+]|[!*\\(\\),]|(?:%[0-9a-fA-F][0-9a-fA-F]))+\", re.UNICODE)\n",
    "    REMOVE_TOKEN_CHARS = re.compile(\"(\\\\*$|:$|^파일:.+|^;)\", re.UNICODE)\n",
    "    MULTIPLE_SPACES = re.compile(' +', re.UNICODE)\n",
    "    EXCEPT_KOREAN = re.compile(\"[^ ㄱ-ㅣ가-힣+|.]\", re.UNICODE)\n",
    "    data = re.sub(EMAIL_PATTERN, ' ', data)  # remove email pattern\n",
    "    data = re.sub(URL_PATTERN, ' ', data) # remove url pattern\n",
    "    data = re.sub(REMOVE_CHARS, ' ', data)  # remove unnecessary chars\n",
    "    data = re.sub(EXCEPT_KOREAN, ' ', data)\n",
    "    data = re.sub(SPACE_CHARS, ' ', data)\n",
    "    data = re.sub(MULTIPLE_SPACES, ' ', data)\n",
    "    data = re.sub(' [.]', '', data)\n",
    "    stop_words = \"등 등이 에 에서 와 과 은 는 의 개 개의 년간 로 을 를 하는 총 월 목표주가 현재주가 연결 요약 재무제표 십억원 만주 주 주가 배 년 일 만 억원 우 좌 원 억 백만 약 각각 으로 십 액면가 종가 자본금 발행주식수 시가총액 외국인지분율 일평균거래량 일평균거래대금 주가수익률 절대수익률 상대수익률 배당수익률\"\n",
    "    stop_words = set(stop_words.split(' '))\n",
    "    result = [word for word in data.split(' ') if not word in stop_words]\n",
    "    result = \" \".join(result)\n",
    "    return result"
   ]
  },
  {
   "cell_type": "code",
   "execution_count": 8,
   "id": "425cfb84-99f0-4c94-9112-16bc706e7041",
   "metadata": {},
   "outputs": [],
   "source": [
    "def read_pdf_PDFMINER(pdf_file_path):\n",
    "    \"\"\"\n",
    "    pdf_file_path: 'dir/aaa.pdf'로 구성된 path로부터 \n",
    "    내부의 text 파일을 모두 읽어서 스트링을 리턴함.\n",
    "    https://pdfminersix.readthedocs.io/en/latest/tutorials/composable.html\n",
    "    \"\"\"\n",
    "    output_string = StringIO()\n",
    "    with open(pdf_file_path, 'rb') as f:\n",
    "        parser = PDFParser(f)\n",
    "        doc = PDFDocument(parser)\n",
    "        rsrcmgr = PDFResourceManager()\n",
    "        device = TextConverter(rsrcmgr, output_string, laparams=LAParams())\n",
    "        interpreter = PDFPageInterpreter(rsrcmgr, device)\n",
    "        for pageNumber, page in enumerate(PDFPage.create_pages(doc)):\n",
    "            if pageNumber == 0:\n",
    "                interpreter.process_page(page)\n",
    "                break\n",
    "\n",
    "    return str(output_string.getvalue())"
   ]
  },
  {
   "cell_type": "markdown",
   "id": "8ab14001-71c4-4107-808f-41222a69f464",
   "metadata": {},
   "source": [
    "### Google 번역기 활용\n",
    "### pip install googletrans==4.0.0-rc1로 설치할 것"
   ]
  },
  {
   "cell_type": "code",
   "execution_count": 107,
   "id": "8186d9f1-8e8d-4a44-b910-35982f8c53c2",
   "metadata": {},
   "outputs": [],
   "source": [
    "import googletrans\n",
    "\n",
    "\n",
    "def back_translate_google(source_text):\n",
    "    translator = googletrans.Translator()\n",
    "    \n",
    "    # en와 ja 비슷, zh-cn와 zh-tw 비슷\n",
    "    lang_list = [\"en\", \"zh-cn\"]\n",
    "    back_trans_list = list()\n",
    "    \n",
    "    # print(googletrans.LANGUAGES)\n",
    "    for lang in lang_list:\n",
    "        trans_text = translator.translate(source_text, dest=lang)\n",
    "        back_trans_text = translator.translate(trans_text.text, dest=\"ko\")\n",
    "        back_trans_list.append(back_trans_text.text)\n",
    "    \n",
    "    return back_trans_list\n",
    "    "
   ]
  },
  {
   "cell_type": "markdown",
   "id": "fbfc2b2f-8d64-470f-9139-ddaaf9fd9f17",
   "metadata": {},
   "source": [
    "### Naver 파파고 활용"
   ]
  },
  {
   "cell_type": "code",
   "execution_count": 116,
   "id": "1d77de69-f930-4faf-8821-9e440e65b071",
   "metadata": {},
   "outputs": [],
   "source": [
    "import os\n",
    "import sys\n",
    "import urllib\n",
    "import json\n",
    "\n",
    "\n",
    "def back_translate_papago(source_text):\n",
    "    # 보안상 개인 naver api key 사용 바람\n",
    "    json_file = open(\"./translator_key.json\", encoding=\"utf-8\")\n",
    "    key_dict = json.loads(json_file.read())\n",
    "\n",
    "    client_id = key_dict[\"client_id\"]\n",
    "    client_secret = key_dict[\"client_secret\"]\n",
    "\n",
    "    url = \"https://openapi.naver.com/v1/papago/n2mt\"\n",
    "\n",
    "    lang_list = [\"en\", \"ja\"]\n",
    "    \n",
    "    target_lang = lang_list[0]\n",
    "    ### 한국어 -> 외국어\n",
    "    enc_text = urllib.parse.quote(source_text)\n",
    "    data = f\"source=ko&target={target_lang}&text=\" + enc_text\n",
    "    \n",
    "    # 요청 header 및 parameter\n",
    "    req_header = {\"X-Naver-Client-Id\":client_id, \"X-Naver-Client-Secret\":client_secret}\n",
    "    req_parameter = {\"source\":\"ko\", \"target\":target_lang, \"text\":encText}\n",
    "    request = urllib.request.Request(url)\n",
    "    request.add_header(\"X-Naver-Client-Id\", client_id)\n",
    "    request.add_header(\"X-Naver-Client-Secret\", client_secret)\n",
    "    response = urllib.request.urlopen(request, data=data.encode(\"utf-8\"))\n",
    "    rescode = response.getcode()\n",
    "\n",
    "    if(rescode == 200):\n",
    "        response_body = response.read()\n",
    "        res_json = json.loads(response_body.decode(\"utf-8\"))\n",
    "        trans_text = res_json[\"message\"][\"result\"][\"translatedText\"]\n",
    "    else:\n",
    "        print(\"error Code:\" + rescode)\n",
    "        sys.exit(1)\n",
    "    \n",
    "    ### 외국어 -> 한국어\n",
    "    enc_text = urllib.parse.quote(trans_text)\n",
    "    data = f\"source={target_lang}&target=ko&text=\" + enc_text\n",
    "    \n",
    "    # 요청 header 및 parameter\n",
    "    req_parameter = {\"source\":target_lang, \"target\":\"ko\", \"text\":trans_text}\n",
    "    request = urllib.request.Request(url)\n",
    "    request.add_header(\"X-Naver-Client-Id\", client_id)\n",
    "    request.add_header(\"X-Naver-Client-Secret\", client_secret)\n",
    "    response = urllib.request.urlopen(request, data=data.encode(\"utf-8\"))\n",
    "    rescode = response.getcode()\n",
    "\n",
    "    if(rescode == 200):\n",
    "        response_body = response.read()\n",
    "        res_json = json.loads(response_body.decode(\"utf-8\"))\n",
    "        back_trans_text = res_json[\"message\"][\"result\"][\"translatedText\"]\n",
    "    else:\n",
    "        print(\"error Code:\" + rescode)\n",
    "        sys.exit(1)\n",
    "    \n",
    "    print(source_text)\n",
    "    print(\"-\" * 30)\n",
    "    print(trans_text)\n",
    "    print(\"-\" * 30)\n",
    "    print(back_trans_text)\n",
    "    \n",
    "    return back_trans_text\n"
   ]
  },
  {
   "cell_type": "code",
   "execution_count": 1,
   "id": "d2d7cb1b-0113-4af2-98d2-c95dfde78536",
   "metadata": {
    "tags": []
   },
   "outputs": [
    {
     "ename": "NameError",
     "evalue": "name 'pd' is not defined",
     "output_type": "error",
     "traceback": [
      "\u001b[0;31m---------------------------------------------------------------------------\u001b[0m",
      "\u001b[0;31mNameError\u001b[0m                                 Traceback (most recent call last)",
      "Input \u001b[0;32mIn [1]\u001b[0m, in \u001b[0;36m<cell line: 11>\u001b[0;34m()\u001b[0m\n\u001b[1;32m      8\u001b[0m     \u001b[38;5;66;03m# back_trans_text = back_translate_papago(preprocessed_text_data)\u001b[39;00m\n\u001b[1;32m     11\u001b[0m \u001b[38;5;28;01mif\u001b[39;00m \u001b[38;5;18m__name__\u001b[39m \u001b[38;5;241m==\u001b[39m \u001b[38;5;124m\"\u001b[39m\u001b[38;5;124m__main__\u001b[39m\u001b[38;5;124m\"\u001b[39m:\n\u001b[0;32m---> 12\u001b[0m     \u001b[43mmain\u001b[49m\u001b[43m(\u001b[49m\u001b[43m)\u001b[49m\n",
      "Input \u001b[0;32mIn [1]\u001b[0m, in \u001b[0;36mmain\u001b[0;34m()\u001b[0m\n\u001b[1;32m      1\u001b[0m \u001b[38;5;28;01mdef\u001b[39;00m \u001b[38;5;21mmain\u001b[39m():    \n\u001b[0;32m----> 2\u001b[0m     origin_strongbuy \u001b[38;5;241m=\u001b[39m \u001b[43mpd\u001b[49m\u001b[38;5;241m.\u001b[39mread_csv(\u001b[38;5;124m\"\u001b[39m\u001b[38;5;124m./data/strongbuy.csv\u001b[39m\u001b[38;5;124m\"\u001b[39m)\n\u001b[1;32m      3\u001b[0m     origin_sell \u001b[38;5;241m=\u001b[39m pd\u001b[38;5;241m.\u001b[39mread_csv(\u001b[38;5;124m\"\u001b[39m\u001b[38;5;124m./data/sell.csv\u001b[39m\u001b[38;5;124m\"\u001b[39m)\n\u001b[1;32m      4\u001b[0m     origin_holddown \u001b[38;5;241m=\u001b[39m pd\u001b[38;5;241m.\u001b[39mread_csv(\u001b[38;5;124m\"\u001b[39m\u001b[38;5;124m./data/holddown.csv\u001b[39m\u001b[38;5;124m\"\u001b[39m)\n",
      "\u001b[0;31mNameError\u001b[0m: name 'pd' is not defined"
     ]
    }
   ],
   "source": [
    "def main():    \n",
    "    origin_strongbuy = pd.read_csv(\"./data/strongbuy.csv\")\n",
    "    origin_sell = pd.read_csv(\"./data/sell.csv\")\n",
    "    origin_holddown = pd.read_csv(\"./data/holddown.csv\")\n",
    "    \n",
    "    print(origin_strongbuy)\n",
    "\n",
    "    # back_trans_text = back_translate_papago(preprocessed_text_data)\n",
    "    \n",
    "    \n",
    "if __name__ == \"__main__\":\n",
    "    main()"
   ]
  },
  {
   "cell_type": "code",
   "execution_count": null,
   "id": "e57600c8",
   "metadata": {},
   "outputs": [],
   "source": []
  }
 ],
 "metadata": {
  "kernelspec": {
   "display_name": "Python 3 (ipykernel)",
   "language": "python",
   "name": "python3"
  },
  "language_info": {
   "codemirror_mode": {
    "name": "ipython",
    "version": 3
   },
   "file_extension": ".py",
   "mimetype": "text/x-python",
   "name": "python",
   "nbconvert_exporter": "python",
   "pygments_lexer": "ipython3",
   "version": "3.8.13"
  }
 },
 "nbformat": 4,
 "nbformat_minor": 5
}
