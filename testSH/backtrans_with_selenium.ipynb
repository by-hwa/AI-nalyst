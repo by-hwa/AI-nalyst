{
 "cells": [
  {
   "cell_type": "code",
   "execution_count": 9,
   "id": "09a5e318-8b8d-4c3f-9e08-6a1d2d388300",
   "metadata": {},
   "outputs": [],
   "source": [
    "from selenium import webdriver\n",
    "import time\n",
    "import pandas as pd\n",
    "from selenium.webdriver.common.action_chains import ActionChains\n",
    "from selenium.webdriver.chrome.options import Options\n",
    "\n",
    "from selenium.webdriver.common.by import By\n",
    "from selenium.webdriver.support.ui import WebDriverWait\n",
    "from selenium.webdriver.support import expected_conditions as EC"
   ]
  },
  {
   "cell_type": "code",
   "execution_count": 10,
   "id": "0d76ab9a-6526-4d7f-b6a5-1869101f5b75",
   "metadata": {},
   "outputs": [],
   "source": [
    "chrome_options = Options()\n",
    "# chrome_options.add_argument('--headless')        # Head-less 설정\n",
    "chrome_options.add_argument('--no-sandbox')"
   ]
  },
  {
   "cell_type": "code",
   "execution_count": 13,
   "id": "b36714d0-6cd9-4a75-8f9e-a4bcf3308154",
   "metadata": {},
   "outputs": [],
   "source": [
    "# data load\n",
    "origin_strongbuy = pd.read_csv(\"./data/strongbuy.csv\")\n",
    "origin_sell = pd.read_csv(\"./data/sell.csv\")\n",
    "origin_holddown = pd.read_csv(\"./data/holddown.csv\")\n",
    "\n",
    "strongbuy_articles = list(origin_strongbuy[\"article\"])\n",
    "sell_articles = list(origin_sell[\"article\"])\n",
    "holddown_articles = list(origin_holddown[\"article\"])"
   ]
  },
  {
   "cell_type": "code",
   "execution_count": 31,
   "id": "cc7b0546-3df5-4372-ba02-c940f15cccd6",
   "metadata": {},
   "outputs": [
    {
     "data": {
      "text/plain": [
       "'삼성중공업 (010140 KS) 부진한 2 분기, 여전한 불확실성 인력 구조조정 및 반잠수식 시추선 등 일부 해양플랜트 공정 지연으로 인한 충당금 설정으로 부진한 2 분기 실적을 발표함. 조선/해양설비 시장 위축으로 인한 수주 부진 및 재무구조 불확실성이 주가 상승을 제한할 것으로 판단함. 동사에 대한 REDUCE 투자의견을 유지함. 부진한 2 분기 실적 삼성중공업은 7 월 29 일 장 종료 후 부진한 2 분기 실적을 발표함. 2 분기 매출은 2.7 조원(+89.0% YoY, +7.5% QoQ), 영업손실은 2,837 억원(전년 대비 적자 지속, 전분기 대비 적자 전환)으로 최근 낮아진 시장 기대치인 영업손실 1,220 억원을 하회하였음.'"
      ]
     },
     "execution_count": 31,
     "metadata": {},
     "output_type": "execute_result"
    }
   ],
   "source": [
    "sell_articles[0]"
   ]
  },
  {
   "cell_type": "code",
   "execution_count": 33,
   "id": "099a7ed9-1098-4d52-9925-26f8142be9e4",
   "metadata": {
    "scrolled": true
   },
   "outputs": [
    {
     "name": "stderr",
     "output_type": "stream",
     "text": [
      "/home/piai/anaconda3/envs/iml/lib/python3.7/site-packages/ipykernel_launcher.py:1: DeprecationWarning: executable_path has been deprecated, please pass in a Service object\n",
      "  \"\"\"Entry point for launching an IPython kernel.\n"
     ]
    }
   ],
   "source": [
    "browser = webdriver.Chrome(\"./data/chromedriver\", options=chrome_options)\n",
    "# url = f\"https://translate.google.co.kr/?hl=ko&sl=ko&tl=en&op=translate\"\n",
    "url = f\"https://papago.naver.com/?sk=ko&tk=en\"\n",
    "browser.get(url)\n",
    "\n",
    "# browser.find_element(by=By.XPATH, value='//*[@id=\"yDmH0d\"]/c-wiz/div/div[2]/c-wiz/div[2]/c-wiz/div[1]/div[2]/div[3]/c-wiz[1]/span/span/div/textarea').send_keys(sell_articles[2])\n",
    "# browser.find_element(by=By.XPATH, value='//*[@id=\"ow24\"]/div/span/button').click()\n",
    "browser.find_element(by=By.XPATH, value='//*[@id=\"txtSource\"]').send_keys(sell_articles[0])"
   ]
  },
  {
   "cell_type": "markdown",
   "id": "d33d7dbf-0ac3-4a9b-b177-df50b554d46b",
   "metadata": {},
   "source": [
    "## 한경컨센서스 스크래핑 코드"
   ]
  },
  {
   "cell_type": "code",
   "execution_count": 30,
   "id": "eb0791c1-62ba-4e9d-8faf-963df8dbd99c",
   "metadata": {
    "scrolled": true
   },
   "outputs": [
    {
     "ename": "AttributeError",
     "evalue": "'WebDriver' object has no attribute 'find_element_by_xpath'",
     "output_type": "error",
     "traceback": [
      "\u001b[0;31m---------------------------------------------------------------------------\u001b[0m",
      "\u001b[0;31mAttributeError\u001b[0m                            Traceback (most recent call last)",
      "\u001b[0;32m/tmp/ipykernel_26622/792745162.py\u001b[0m in \u001b[0;36m<module>\u001b[0;34m\u001b[0m\n\u001b[1;32m      1\u001b[0m \u001b[0mbrowser\u001b[0m\u001b[0;34m.\u001b[0m\u001b[0mget\u001b[0m\u001b[0;34m(\u001b[0m\u001b[0;34m\"http://hkconsensus.hankyung.com/apps.analysis/analysis.list?sdate=2014-07-01&edate=2022-07-06&now_page=1&report_type=CO&pagenum=80\"\u001b[0m\u001b[0;34m)\u001b[0m\u001b[0;34m\u001b[0m\u001b[0;34m\u001b[0m\u001b[0m\n\u001b[0;32m----> 2\u001b[0;31m \u001b[0mlastpage\u001b[0m \u001b[0;34m=\u001b[0m \u001b[0mbrowser\u001b[0m\u001b[0;34m.\u001b[0m\u001b[0mfind_element_by_xpath\u001b[0m\u001b[0;34m(\u001b[0m\u001b[0;34m\"//*[@id='contents']/div[3]/a[12]\"\u001b[0m\u001b[0;34m)\u001b[0m\u001b[0;34m\u001b[0m\u001b[0;34m\u001b[0m\u001b[0m\n\u001b[0m\u001b[1;32m      3\u001b[0m \u001b[0mlastpagenumber\u001b[0m \u001b[0;34m=\u001b[0m \u001b[0mlastpage\u001b[0m\u001b[0;34m.\u001b[0m\u001b[0mget_attribute\u001b[0m\u001b[0;34m(\u001b[0m\u001b[0;34m\"href\"\u001b[0m\u001b[0;34m)\u001b[0m\u001b[0;34m\u001b[0m\u001b[0;34m\u001b[0m\u001b[0m\n\u001b[1;32m      4\u001b[0m \u001b[0mlastpagenumber\u001b[0m \u001b[0;34m=\u001b[0m \u001b[0mint\u001b[0m\u001b[0;34m(\u001b[0m\u001b[0mlastpagenumber\u001b[0m\u001b[0;34m.\u001b[0m\u001b[0msplit\u001b[0m\u001b[0;34m(\u001b[0m\u001b[0;34m\"=\"\u001b[0m\u001b[0;34m)\u001b[0m\u001b[0;34m[\u001b[0m\u001b[0;34m-\u001b[0m\u001b[0;36m1\u001b[0m\u001b[0;34m]\u001b[0m\u001b[0;34m)\u001b[0m\u001b[0;34m\u001b[0m\u001b[0;34m\u001b[0m\u001b[0m\n\u001b[1;32m      5\u001b[0m \u001b[0;34m\u001b[0m\u001b[0m\n",
      "\u001b[0;31mAttributeError\u001b[0m: 'WebDriver' object has no attribute 'find_element_by_xpath'"
     ]
    }
   ],
   "source": [
    "browser.get(\"http://hkconsensus.hankyung.com/apps.analysis/analysis.list?sdate=2014-07-01&edate=2022-07-06&now_page=1&report_type=CO&pagenum=80\")\n",
    "lastpage = browser.find_element_by_xpath(\"//*[@id='contents']/div[3]/a[12]\")\n",
    "lastpagenumber = lastpage.get_attribute(\"href\")\n",
    "lastpagenumber = int(lastpagenumber.split(\"=\")[-1])\n",
    "\n",
    "for i in range(1,lastpagenumber+1):\n",
    "    browser.get(f\"http://hkconsensus.hankyung.com/apps.analysis/analysis.list?sdate=2014-07-01&edate=2022-07-06&now_page={i}&report_type=CO&pagenum=80\")\n",
    "    time.sleep(2)\n",
    "    for j in range(1, 81):\n",
    "        date = browser.find_element_by_xpath(f\"//*[@id='contents']/div[2]/table/tbody/tr[{j}]/td[1]\")\n",
    "        date = date.text\n",
    "        title = browser.find_element_by_xpath(f\"//*[@id='contents']/div[2]/table/tbody/tr[{j}]/td[2]\")\n",
    "        title = title.text\n",
    "        price = browser.find_element_by_xpath(f\"//*[@id='contents']/div[2]/table/tbody/tr[{j}]/td[3]\")\n",
    "        price = price.text\n",
    "        consensus = browser.find_element_by_xpath(f\"//*[@id='contents']/div[2]/table/tbody/tr[{j}]/td[4]\")\n",
    "        consensus = consensus.text\n",
    "        analyst = browser.find_element_by_xpath(f\"//*[@id='contents']/div[2]/table/tbody/tr[{j}]/td[5]\")\n",
    "        analyst = analyst.text\n",
    "        firm = browser.find_element_by_xpath(f\"//*[@id='contents']/div[2]/table/tbody/tr[{j}]/td[6]\")\n",
    "        firm = firm.text\n",
    "        pdf = browser.find_element_by_xpath(f\"//*[@id='contents']/div[2]/table/tbody/tr[{j}]/td[9]/div/a\")\n",
    "        report_idx = pdf.get_attribute(\"href\")\n",
    "        report_idx = report_idx.split(\"=\")[-1] # pdf파일명 -> primary key \n",
    "        pdf.click()\n",
    "        time.sleep(1)\n",
    "        print(date, title, price, consensus, analyst, firm, report_idx)"
   ]
  },
  {
   "cell_type": "code",
   "execution_count": null,
   "id": "e5fe081a",
   "metadata": {},
   "outputs": [],
   "source": []
  }
 ],
 "metadata": {
  "kernelspec": {
   "display_name": "Python 3 (ipykernel)",
   "language": "python",
   "name": "python3"
  },
  "language_info": {
   "codemirror_mode": {
    "name": "ipython",
    "version": 3
   },
   "file_extension": ".py",
   "mimetype": "text/x-python",
   "name": "python",
   "nbconvert_exporter": "python",
   "pygments_lexer": "ipython3",
   "version": "3.7.13"
  }
 },
 "nbformat": 4,
 "nbformat_minor": 5
}
