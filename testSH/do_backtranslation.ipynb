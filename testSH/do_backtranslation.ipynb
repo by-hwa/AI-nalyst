{
 "cells": [
  {
   "cell_type": "code",
   "execution_count": 1,
   "id": "3994f0d6-f7f4-4f24-9c66-11d8e4c53d47",
   "metadata": {},
   "outputs": [],
   "source": [
    "import pandas as pd\n",
    "import re\n",
    "from io import StringIO\n",
    "import googletrans\n",
    "import os\n",
    "import sys\n",
    "import urllib\n",
    "import json\n",
    "from tqdm import tqdm"
   ]
  },
  {
   "cell_type": "code",
   "execution_count": 2,
   "id": "e3a66e28-7442-4735-b614-a42a7383baff",
   "metadata": {},
   "outputs": [],
   "source": [
    "def back_translate_google(source_text, target_lang=\"en\"):\n",
    "    translator = googletrans.Translator()\n",
    "    \n",
    "    # en와 ja 비슷, zh-cn와 zh-tw 비슷\n",
    "    # lang_list = [\"en\", \"zh-cn\"]\n",
    "    \n",
    "    trans_text = translator.translate(source_text, dest=target_lang)\n",
    "    back_trans_text = translator.translate(trans_text.text, dest=\"ko\")\n",
    "    \n",
    "    return back_trans_text.text\n",
    "    "
   ]
  },
  {
   "cell_type": "code",
   "execution_count": 11,
   "id": "b1881550-f13d-42de-a2be-f8431ecb9e4e",
   "metadata": {},
   "outputs": [],
   "source": [
    "def back_translate_papago(source_text, target_lang=\"en\"):\n",
    "    # 보안상 개인 naver api key 사용 바람\n",
    "    json_file = open(\"./data/translator_key.json\", encoding=\"utf-8\")\n",
    "    key_dict = json.loads(json_file.read())\n",
    "\n",
    "    client_id = key_dict[\"client_id\"]\n",
    "    client_secret = key_dict[\"client_secret\"]\n",
    "\n",
    "    url = \"https://openapi.naver.com/v1/papago/n2mt\"\n",
    "\n",
    "#     lang_list = [\"en\", \"ja\"]\n",
    "    \n",
    "#     target_lang = lang_list[0]\n",
    "    ### 한국어 -> 외국어\n",
    "    enc_text = urllib.parse.quote(source_text)\n",
    "    data = f\"source=ko&target={target_lang}&text=\" + enc_text\n",
    "    \n",
    "    # 요청 header 및 parameter\n",
    "    req_header = {\"X-Naver-Client-Id\":client_id, \"X-Naver-Client-Secret\":client_secret}\n",
    "    req_parameter = {\"source\":\"ko\", \"target\":target_lang, \"text\":enc_text}\n",
    "    request = urllib.request.Request(url)\n",
    "    request.add_header(\"X-Naver-Client-Id\", client_id)\n",
    "    request.add_header(\"X-Naver-Client-Secret\", client_secret)\n",
    "    response = urllib.request.urlopen(request, data=data.encode(\"utf-8\"))\n",
    "    rescode = response.getcode()\n",
    "\n",
    "    if(rescode == 200):\n",
    "        response_body = response.read()\n",
    "        res_json = json.loads(response_body.decode(\"utf-8\"))\n",
    "        trans_text = res_json[\"message\"][\"result\"][\"translatedText\"]\n",
    "    else:\n",
    "        print(\"error Code:\" + rescode)\n",
    "        sys.exit(1)\n",
    "    \n",
    "    ### 외국어 -> 한국어\n",
    "    enc_text = urllib.parse.quote(trans_text)\n",
    "    data = f\"source={target_lang}&target=ko&text=\" + enc_text\n",
    "    \n",
    "    # 요청 header 및 parameter\n",
    "    req_parameter = {\"source\":target_lang, \"target\":\"ko\", \"text\":trans_text}\n",
    "    request = urllib.request.Request(url)\n",
    "    request.add_header(\"X-Naver-Client-Id\", client_id)\n",
    "    request.add_header(\"X-Naver-Client-Secret\", client_secret)\n",
    "    response = urllib.request.urlopen(request, data=data.encode(\"utf-8\"))\n",
    "    rescode = response.getcode()\n",
    "\n",
    "    if(rescode == 200):\n",
    "        response_body = response.read()\n",
    "        res_json = json.loads(response_body.decode(\"utf-8\"))\n",
    "        back_trans_text = res_json[\"message\"][\"result\"][\"translatedText\"]\n",
    "    else:\n",
    "        print(\"error Code:\" + rescode)\n",
    "        sys.exit(1)\n",
    "    \n",
    "    print(source_text)\n",
    "    print(\"-\" * 30)\n",
    "    print(trans_text)\n",
    "    print(\"-\" * 30)\n",
    "    print(back_trans_text)\n",
    "    \n",
    "    return back_trans_text\n"
   ]
  },
  {
   "cell_type": "code",
   "execution_count": 4,
   "id": "410b79bf-df77-4c01-8fed-9b0b0c25f224",
   "metadata": {},
   "outputs": [],
   "source": [
    "def max_len_slicing(input_str):\n",
    "    return input_str[:1021]"
   ]
  },
  {
   "cell_type": "code",
   "execution_count": 5,
   "id": "1ae6dda3-4adc-4072-9d3c-886204fcb671",
   "metadata": {},
   "outputs": [],
   "source": [
    "def back_trans_list(original_text_list, domain=\"google\", lang='en'):\n",
    "    new_text_list = list()\n",
    "    for original_text in tqdm(original_text_list, ncols=100):\n",
    "        if domain == \"papago\":\n",
    "            new_text = back_translate_papago(original_text, target_lang=lang)\n",
    "            new_text_list.append(new_text)\n",
    "        elif domain == \"google\":\n",
    "            new_text = back_translate_google(original_text, target_lang=lang)\n",
    "            new_text_list.append(new_text)\n",
    "        else:\n",
    "            print(\"Invalid Domain for back_translation.\")\n",
    "            return -1\n",
    "    return new_text_list"
   ]
  },
  {
   "cell_type": "code",
   "execution_count": 14,
   "id": "7e685432-044b-4a72-af34-5696187a06bc",
   "metadata": {},
   "outputs": [
    {
     "name": "stderr",
     "output_type": "stream",
     "text": [
      "100%|█████████████████████████████████████████████████████████████████| 1/1 [00:00<00:00,  1.48it/s]"
     ]
    },
    {
     "name": "stdout",
     "output_type": "stream",
     "text": [
      "이번엔 왜 안늘어나는거지?\n",
      "------------------------------\n",
      "Why isn't it increasing this time?\n",
      "------------------------------\n",
      "이번에는 왜 안 올라가요?\n",
      "['이번에는 왜 안 올라가요?']\n"
     ]
    },
    {
     "name": "stderr",
     "output_type": "stream",
     "text": [
      "\n"
     ]
    }
   ],
   "source": [
    "def main():\n",
    "    domain = \"google\"\n",
    "    \n",
    "    # data load\n",
    "    origin_strongbuy = pd.read_csv(\"./data/strongbuy.csv\")\n",
    "    origin_sell = pd.read_csv(\"./data/sell.csv\")\n",
    "    origin_holddown = pd.read_csv(\"./data/holddown.csv\")\n",
    "    \n",
    "    strongbuy_articles = list(origin_strongbuy[\"article\"])\n",
    "    sell_articles = list(origin_sell[\"article\"])\n",
    "    holddown_articles = list(origin_holddown[\"article\"])\n",
    "    \n",
    "    # back trans - zh-cn\n",
    "    expand_strongbuy_zhcn_list = back_trans_list(strongbuy_articles, domain=domain, lang=\"zh-cn\")\n",
    "    expand_sell_zhcn_list = back_trans_list(sell_articles, domain=domain, lang=\"zh-cn\")\n",
    "    expand_holddown_zhcn_list = back_trans_list(holddown_articles, domain=domain, lang=\"zh-cn\")\n",
    "    \n",
    "    # save - zh-cn\n",
    "    origin_strongbuy[\"article\"] = expand_strongbuy_zhcn_list\n",
    "    origin_strongbuy.to_csv(f\"./data/strongbuy_expand_{domain}_zhcn.csv\", index=False)\n",
    "    \n",
    "    origin_sell[\"article\"] = expand_sell_zhcn_list\n",
    "    origin_sell.to_csv(f\"./data/sell_expand_{domain}_zhcn.csv\", index=False)\n",
    "    \n",
    "    origin_holddown[\"article\"] = expand_holddown_zhcn_list\n",
    "    origin_holddown.to_csv(f\"./data/holddown_expand_{domain}_zhcn.csv\", index=False)\n",
    "    \n",
    "    # back trans - en\n",
    "    expand_strongbuy_en_list = back_trans_list(strongbuy_articles, domain=domain, lang=\"en\")\n",
    "    expand_sell_en_list = back_trans_list(sell_articles, domain=domain, lang=\"en\")\n",
    "    expand_holddown_en_list = back_trans_list(holddown_articles, domain=domain, lang=\"en\")\n",
    "    \n",
    "    # save - en\n",
    "    origin_strongbuy[\"article\"] = expand_strongbuy_en_list\n",
    "    origin_strongbuy.to_csv(f\"./data/strongbuy_expand_{domain}_en.csv\", index=False)\n",
    "    \n",
    "    origin_sell[\"article\"] = expand_sell_en_list\n",
    "    origin_sell.to_csv(f\"./data/sell_expand_{domain}_en.csv\", index=False)\n",
    "    \n",
    "    origin_holddown[\"article\"] = expand_holddown_en_list\n",
    "    origin_holddown.to_csv(f\"./data/holddown_expand_{domain}_en.csv\", index=False)\n",
    "    \n",
    "    \n",
    "if __name__ == \"__main__\":\n",
    "    main()"
   ]
  },
  {
   "cell_type": "code",
   "execution_count": null,
   "id": "9443ac47-792f-4829-b79f-7562ec420b92",
   "metadata": {},
   "outputs": [],
   "source": []
  }
 ],
 "metadata": {
  "kernelspec": {
   "display_name": "Python 3 (ipykernel)",
   "language": "python",
   "name": "python3"
  },
  "language_info": {
   "codemirror_mode": {
    "name": "ipython",
    "version": 3
   },
   "file_extension": ".py",
   "mimetype": "text/x-python",
   "name": "python",
   "nbconvert_exporter": "python",
   "pygments_lexer": "ipython3",
   "version": "3.7.13"
  }
 },
 "nbformat": 4,
 "nbformat_minor": 5
}
