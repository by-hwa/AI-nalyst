{
 "cells": [
  {
   "cell_type": "code",
   "execution_count": 1,
   "id": "5da88a6c-6f12-47c7-874c-9e4c9b788ae1",
   "metadata": {},
   "outputs": [
    {
     "name": "stderr",
     "output_type": "stream",
     "text": [
      "/home/piai/anaconda3/envs/use_pororo/lib/python3.8/site-packages/tqdm/auto.py:22: TqdmWarning: IProgress not found. Please update jupyter and ipywidgets. See https://ipywidgets.readthedocs.io/en/stable/user_install.html\n",
      "  from .autonotebook import tqdm as notebook_tqdm\n"
     ]
    }
   ],
   "source": [
    "from pororo import Pororo\n",
    "import pandas as pd\n",
    "import torch\n",
    "from tqdm import tqdm"
   ]
  },
  {
   "cell_type": "code",
   "execution_count": 2,
   "id": "23e4af70-67bf-431a-9898-9f7c9a6812bf",
   "metadata": {},
   "outputs": [],
   "source": [
    "origin_strongbuy = pd.read_csv(\"./data/strongbuy.csv\")\n",
    "origin_sell = pd.read_csv(\"./data/sell.csv\")\n",
    "origin_holddown = pd.read_csv(\"./data/holddown.csv\")"
   ]
  },
  {
   "cell_type": "code",
   "execution_count": 3,
   "id": "16b2f410-e1bc-4d9f-92e5-a1bfda60fcce",
   "metadata": {},
   "outputs": [],
   "source": [
    "import gc\n",
    "gc.collect()\n",
    "torch.cuda.empty_cache()"
   ]
  },
  {
   "cell_type": "code",
   "execution_count": 4,
   "id": "5c1b9239-f151-4997-92ff-3447e341519b",
   "metadata": {},
   "outputs": [],
   "source": [
    "strongbuy_articles = list(origin_strongbuy[\"article\"])\n",
    "sell_articles = list(origin_sell[\"article\"])\n",
    "holddown_articles = list(origin_holddown[\"article\"])"
   ]
  },
  {
   "cell_type": "code",
   "execution_count": 5,
   "id": "6bc381ce-c866-45f5-8101-34eaa661e6b3",
   "metadata": {},
   "outputs": [],
   "source": [
    "def max_len_slicing(input_str):\n",
    "    return input_str[:1021]\n",
    "\n",
    "# 길이제한 1024 - token 3개 빼고 1021\n",
    "sliced_strongbuy = list(map(max_len_slicing, strongbuy_articles))\n",
    "sliced_sell = list(map(max_len_slicing, sell_articles))\n",
    "sliced_holddown = list(map(max_len_slicing, holddown_articles))"
   ]
  },
  {
   "cell_type": "code",
   "execution_count": 6,
   "id": "2115e593-d340-4348-8399-9a44a3145c2c",
   "metadata": {},
   "outputs": [],
   "source": [
    "mt = Pororo(task=\"translation\", lang=\"multi\")\n",
    "\n",
    "def back_trans_pororo(original_text_list, lang='en'):\n",
    "    new_text_list = list()\n",
    "    for original_text in tqdm(original_text_list):\n",
    "        text_to_lang = mt(original_text, src=\"ko\", tgt=lang)\n",
    "        new_text = mt(text_to_lang, src=lang, tgt=\"ko\")\n",
    "        new_text_list.append(new_text)\n",
    "    return new_text_list"
   ]
  },
  {
   "cell_type": "code",
   "execution_count": 7,
   "id": "b66c8b12-284a-41ac-9798-7671fc3d2668",
   "metadata": {},
   "outputs": [
    {
     "name": "stderr",
     "output_type": "stream",
     "text": [
      "  0%|                                                  | 0/1637 [00:00<?, ?it/s][Korean Sentence Splitter]: Initializing Pynori...\n",
      "100%|█████████████████████████████████████| 1637/1637 [4:46:18<00:00, 10.49s/it]\n",
      "100%|█████████████████████████████████████████| 283/283 [51:27<00:00, 10.91s/it]\n",
      "100%|███████████████████████████████████████| 830/830 [2:08:59<00:00,  9.32s/it]\n"
     ]
    }
   ],
   "source": [
    "expand_strongbuy_list = back_trans_pororo(sliced_strongbuy)\n",
    "expand_sell_list = back_trans_pororo(sliced_sell)\n",
    "expand_holddown_list = back_trans_pororo(sliced_holddown)"
   ]
  },
  {
   "cell_type": "code",
   "execution_count": 8,
   "id": "b5dd0535-164b-459b-a74e-40973f163d7e",
   "metadata": {},
   "outputs": [],
   "source": [
    "origin_strongbuy[\"article\"] = expand_strongbuy_list\n",
    "origin_strongbuy.to_csv(f\"./data/strongbuy_expand_pororo_en.csv\", index=False)\n",
    "\n",
    "origin_sell[\"article\"] = expand_sell_list\n",
    "origin_sell.to_csv(f\"./data/sell_expand_pororo_en.csv\", index=False)\n",
    "\n",
    "origin_holddown[\"article\"] = expand_holddown_list\n",
    "origin_holddown.to_csv(f\"./data/holddown_expand_pororo_en.csv\", index=False)"
   ]
  }
 ],
 "metadata": {
  "kernelspec": {
   "display_name": "Python 3 (ipykernel)",
   "language": "python",
   "name": "python3"
  },
  "language_info": {
   "codemirror_mode": {
    "name": "ipython",
    "version": 3
   },
   "file_extension": ".py",
   "mimetype": "text/x-python",
   "name": "python",
   "nbconvert_exporter": "python",
   "pygments_lexer": "ipython3",
   "version": "3.8.13"
  }
 },
 "nbformat": 4,
 "nbformat_minor": 5
}
